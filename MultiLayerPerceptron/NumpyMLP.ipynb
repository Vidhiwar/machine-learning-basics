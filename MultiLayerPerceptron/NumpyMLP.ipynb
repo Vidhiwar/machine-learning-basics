{
 "cells": [
  {
   "cell_type": "code",
   "execution_count": 21,
   "metadata": {},
   "outputs": [],
   "source": [
    "import numpy\n",
    "from matplotlib.colors import ListedColormap\n",
    "import matplotlib.pyplot as plt\n",
    "import numpy as np\n",
    "from tqdm import tqdm"
   ]
  },
  {
   "cell_type": "code",
   "execution_count": 127,
   "metadata": {},
   "outputs": [],
   "source": [
    "def tanh(x):\n",
    "    return (1.0 - numpy.exp(-2*x))/(1.0 + numpy.exp(-2*x))\n",
    "# Prove this\n",
    "# f: tanh then f'(x) = (1+f(x))*(1-f(x))\n",
    "def tanh_derivative(y):\n",
    "    return (1 + y)*(1 - y)"
   ]
  },
  {
   "cell_type": "code",
   "execution_count": 137,
   "metadata": {},
   "outputs": [],
   "source": [
    "def CrossEntropy(yHat, y):\n",
    "    if y == 1:\n",
    "        return -np.log2(yHat)\n",
    "    else:\n",
    "        return -np.log2(1 - yHat)"
   ]
  },
  {
   "cell_type": "code",
   "execution_count": 5,
   "metadata": {},
   "outputs": [],
   "source": [
    "def sigmoid(x):\n",
    "    return 1 / (1 + numpy.exp(-x))\n",
    "# Prove this\n",
    "# f: sigmoid then f'(x) = f(x)(1 - f(x))\n",
    "def sigmoid_derivative(y):\n",
    "    return y * (1 - y)"
   ]
  },
  {
   "cell_type": "code",
   "execution_count": 6,
   "metadata": {},
   "outputs": [],
   "source": [
    "def sample_points(n):\n",
    "    radius = np.random.uniform(low = 0, high = 2, size = n).reshape(-1,1)\n",
    "    angle = np.random.uniform(low = 0, high = 2*np.pi, size = n).reshape(-1,1)\n",
    "    x1 = radius*np.cos(angle)\n",
    "    x2 = radius*np.sin(angle)\n",
    "    y = (radius<1).astype(int).reshape(-1)\n",
    "    x = np.concatenate([x1,x2], axis = 1)\n",
    "    return x,y"
   ]
  },
  {
   "cell_type": "code",
   "execution_count": 138,
   "metadata": {},
   "outputs": [],
   "source": [
    "class my_MLP:\n",
    "    #########\n",
    "    # parameters\n",
    "    # ----------\n",
    "    # self:      the class object itself\n",
    "    # net_arch:  consists of a list of integers, indicating\n",
    "    #            the number of neurons in each layer, i.e. the network architecture\n",
    "    #########\n",
    "    def __init__(self, net_arch=[2, 6, 1]):\n",
    "        numpy.random.seed(0)\n",
    "        \n",
    "        # Initialized the weights, making sure we also \n",
    "        # initialize the weights for the biases that we will add later\n",
    "        self.activity = tanh\n",
    "        self.activity_derivative = tanh_derivative\n",
    "        self.layers = len(net_arch) # N\n",
    "        self.steps_per_epoch = 1 # \n",
    "        self.arch = net_arch\n",
    "        self.weights = []\n",
    "\n",
    "        # Random initialization with range of weight values (-1,1)\n",
    "        # self.weights_in_hidden = 2*numpy.random.rand(input_size + 1, hidden_size) - 1 # W^1 = [3 x 6]\n",
    "        # self.weights_hidden_out = 2*numpy.random.rand(hidden_size + 1, output_size) - 1 # W^2 = [7 x 1]\n",
    "        \n",
    "    \n",
    "        for layer in range(self.layers - 1):\n",
    "            w = 2*numpy.random.rand(net_arch[layer] + 1, net_arch[layer+1]) - 1\n",
    "            self.weights.append(w)\n",
    "    \n",
    "    def forward_pass(self, x):\n",
    "        y = x\n",
    "        for i in range(len(self.weights)-1):\n",
    "            activation = numpy.dot(y[i], self.weights[i])\n",
    "            activity = self.activity(activation)\n",
    "\n",
    "            # add the bias for the next layer\n",
    "            activity = numpy.concatenate((numpy.ones(1), numpy.array(activity)))\n",
    "            y.append(activity)\n",
    "\n",
    "        # last layer\n",
    "        activation = numpy.dot(y[-1], self.weights[-1])\n",
    "        activity = self.activity(activation)\n",
    "        y.append(activity)\n",
    "        \n",
    "        return y\n",
    "            # From Input Layer  ->  Hidden Layer\n",
    "       # z1 = numpy.dot(y0, self.weights_in_hidden) # w^1x = w11*x1 + w12*x2, etc\n",
    "       # fz1 = self.activity(z1) \n",
    "        # add the bias for the next layer\n",
    "       # y1 = numpy.concatenate((numpy.ones(1), numpy.array(fz2)))\n",
    "       \n",
    "       # self.y1 = y1\n",
    "        # From  Hidden Layer -> Output Layer\n",
    "\n",
    "       # z2 = numpy.dot(y1, self.weights_hidden_out) # # w^2x = w11*x1 + w12*x2, etc\n",
    "       # fz2 = self.activity(activation)\n",
    "        \n",
    "       # y2 = fz2\n",
    "       # self.y2 = y2\n",
    "        \n",
    "    \n",
    "    def backfoward_pass(self, y, target, learning_rate):\n",
    "#         print(y[-1],target)\n",
    "#         error = target - y[-1]\n",
    "        error = CrossEntropy(y[-1],target)\n",
    "        e = error\n",
    "        \n",
    "#         error = -(target*np.log(y[-1]) + (1-target)*np.log(1-y[-1]))\n",
    "        delta_vec = [error * self.activity_derivative(y[-1])]\n",
    "\n",
    "        # we need to begin from the back, from the next to last layer\n",
    "        for i in range(self.layers-2, 0, -1):\n",
    "            error = delta_vec[-1].dot(self.weights[i][1:].T)\n",
    "            error = error*self.activity_derivative(y[i][1:])\n",
    "            delta_vec.append(error)\n",
    "\n",
    "        # Now we need to set the values from back to front\n",
    "        delta_vec.reverse()\n",
    "        \n",
    "        # Finally, we adjust the weights, using the backpropagation rules\n",
    "        for i in range(len(self.weights)):\n",
    "            layer = y[i].reshape(1, self.arch[i]+1)\n",
    "            delta = delta_vec[i].reshape(1, self.arch[i+1])\n",
    "            self.weights[i] += learning_rate*layer.T.dot(delta)\n",
    "#         print(error)\n",
    "        return e\n",
    "    \n",
    "    def fit(self, data, labels,data_val,labels_val,learning_rate=0.00001, epochs=100):\n",
    "        \n",
    "        # Add bias units to the input layer - \n",
    "        # add a \"1\" to the input data (the always-on bias neuron)\n",
    "        ones = numpy.ones((1, data.shape[0]))\n",
    "        Z = numpy.concatenate((ones.T, data), axis=1)\n",
    "        errors_train = []\n",
    "        errors_val = []\n",
    "#         print(Z.shape)\n",
    "        \n",
    "#         ones_val = numpy.ones((1, data_val.shape[0]))\n",
    "#         Z_val = numpy.concatenate((ones_val.T, data_val), axis=1)\n",
    "        \n",
    "        \n",
    "        for k in tqdm(range(epochs)):\n",
    "            if (k+1) % 10 == 0:\n",
    "                err = []\n",
    "#                 print('epochs: {}'.format(k+1))\n",
    "                for i in range(0,data_val.shape[0]):\n",
    "                    y_val = self.predict_single_data(data_val[i])\n",
    "                    y_true = labels_val[i]\n",
    "#                     error = -(y_true*np.log(y_val) + (1-y_true)*np.log(1-y_val))\n",
    "#                     error = y_true - y_val\n",
    "                    error = CrossEntropy(y_val,y_true)\n",
    "                    err.append(error)\n",
    "                errors_val.append(np.sum(err)/len(err))\n",
    "        \n",
    "            sample = numpy.random.randint(data.shape[0])\n",
    "#             print(sample)\n",
    "#             print('this')\n",
    "\n",
    "            # We will now go ahead and set up our feed-forward propagation:\n",
    "            x = [Z[sample,:]]\n",
    "            y = self.forward_pass(x)\n",
    "#             print(x,y[-1])\n",
    "#             print('val')\n",
    "\n",
    "            # Now we do our back-propagation of the error to adjust the weights:\n",
    "            target = labels[sample]\n",
    "#             print(x)\n",
    "            e = self.backfoward_pass(y, target, learning_rate)\n",
    "            errors_train.append(e)\n",
    "        return errors_train, errors_val\n",
    "            \n",
    "    \n",
    "    def predict_single_data(self, x):\n",
    "        val = numpy.concatenate((numpy.ones(1).T, numpy.array(x)))\n",
    "        for i in range(0, len(self.weights)):\n",
    "            val = self.activity(numpy.dot(val, self.weights[i]))\n",
    "            val = numpy.concatenate((numpy.ones(1).T, numpy.array(val)))\n",
    "        return val[1]\n",
    "    \n",
    "    def predict(self, X):\n",
    "        Y = numpy.array([]).reshape(0, self.arch[-1])\n",
    "        for x in X:\n",
    "            y = numpy.array([[self.predict_single_data(x)]])\n",
    "            Y = numpy.vstack((Y,y))\n",
    "        return Y\n",
    "    "
   ]
  },
  {
   "cell_type": "code",
   "execution_count": 139,
   "metadata": {},
   "outputs": [
    {
     "name": "stderr",
     "output_type": "stream",
     "text": [
      "  0%|          | 0/100 [00:00<?, ?it/s]/home/vidhiwar/anaconda3/lib/python3.7/site-packages/ipykernel_launcher.py:3: RuntimeWarning: invalid value encountered in log10\n",
      "  This is separate from the ipykernel package so we can avoid doing imports until\n",
      "100%|██████████| 100/100 [00:00<00:00, 226.07it/s]\n"
     ]
    }
   ],
   "source": [
    "numpy.random.seed(0)\n",
    "nn = my_MLP([2,6,1])\n",
    "xt,yt = sample_points(10000)\n",
    "xv,yv = sample_points(2000)\n",
    "t_error,v_error = nn.fit(xt,yt,xv,yv)"
   ]
  },
  {
   "cell_type": "code",
   "execution_count": 140,
   "metadata": {},
   "outputs": [
    {
     "data": {
      "text/plain": [
       "[array([0.82653571]),\n",
       " array([-0.01866483]),\n",
       " array([0.30503794]),\n",
       " array([0.01680267]),\n",
       " array([-0.22540525]),\n",
       " array([0.74753791]),\n",
       " array([nan]),\n",
       " array([nan]),\n",
       " array([nan]),\n",
       " array([nan]),\n",
       " array([nan]),\n",
       " array([nan]),\n",
       " array([nan]),\n",
       " array([nan]),\n",
       " array([nan]),\n",
       " array([nan]),\n",
       " array([nan]),\n",
       " array([nan]),\n",
       " array([nan]),\n",
       " array([nan]),\n",
       " array([nan]),\n",
       " array([nan]),\n",
       " array([nan]),\n",
       " array([nan]),\n",
       " array([nan]),\n",
       " array([nan]),\n",
       " array([nan]),\n",
       " array([nan]),\n",
       " array([nan]),\n",
       " array([nan]),\n",
       " array([nan]),\n",
       " array([nan]),\n",
       " array([nan]),\n",
       " array([nan]),\n",
       " array([nan]),\n",
       " array([nan]),\n",
       " array([nan]),\n",
       " array([nan]),\n",
       " array([nan]),\n",
       " array([nan]),\n",
       " array([nan]),\n",
       " array([nan]),\n",
       " array([nan]),\n",
       " array([nan]),\n",
       " array([nan]),\n",
       " array([nan]),\n",
       " array([nan]),\n",
       " array([nan]),\n",
       " array([nan]),\n",
       " array([nan]),\n",
       " array([nan]),\n",
       " array([nan]),\n",
       " array([nan]),\n",
       " array([nan]),\n",
       " array([nan]),\n",
       " array([nan]),\n",
       " array([nan]),\n",
       " array([nan]),\n",
       " array([nan]),\n",
       " array([nan]),\n",
       " array([nan]),\n",
       " array([nan]),\n",
       " array([nan]),\n",
       " array([nan]),\n",
       " array([nan]),\n",
       " array([nan]),\n",
       " array([nan]),\n",
       " array([nan]),\n",
       " array([nan]),\n",
       " array([nan]),\n",
       " array([nan]),\n",
       " array([nan]),\n",
       " array([nan]),\n",
       " array([nan]),\n",
       " array([nan]),\n",
       " array([nan]),\n",
       " array([nan]),\n",
       " array([nan]),\n",
       " array([nan]),\n",
       " array([nan]),\n",
       " array([nan]),\n",
       " array([nan]),\n",
       " array([nan]),\n",
       " array([nan]),\n",
       " array([nan]),\n",
       " array([nan]),\n",
       " array([nan]),\n",
       " array([nan]),\n",
       " array([nan]),\n",
       " array([nan]),\n",
       " array([nan]),\n",
       " array([nan]),\n",
       " array([nan]),\n",
       " array([nan]),\n",
       " array([nan]),\n",
       " array([nan]),\n",
       " array([nan]),\n",
       " array([nan]),\n",
       " array([nan]),\n",
       " array([nan])]"
      ]
     },
     "execution_count": 140,
     "metadata": {},
     "output_type": "execute_result"
    }
   ],
   "source": [
    "t_error"
   ]
  },
  {
   "cell_type": "code",
   "execution_count": 126,
   "metadata": {},
   "outputs": [
    {
     "data": {
      "text/plain": [
       "[<matplotlib.lines.Line2D at 0x7f349f48bc90>]"
      ]
     },
     "execution_count": 126,
     "metadata": {},
     "output_type": "execute_result"
    },
    {
     "data": {
      "image/png": "[encoded data removed]",
      "text/plain": [
       "<Figure size 432x288 with 1 Axes>"
      ]
     },
     "metadata": {
      "needs_background": "light"
     },
     "output_type": "display_data"
    }
   ],
   "source": [
    "plt.plot(range(0,len(t_error)),t_error)"
   ]
  },
  {
   "cell_type": "code",
   "execution_count": 43,
   "metadata": {},
   "outputs": [
    {
     "data": {
      "text/plain": [
       "[array([ 0.15910304, -0.34140705,  0.56557833,  0.02769688, -0.10467275,\n",
       "        -0.29805051,  0.32630962, -0.01793725]),\n",
       " array([ 0.01426139, -0.02414401,  0.04348442,  0.00204778, -0.00723449,\n",
       "        -0.01718855,  0.06084006, -0.00229417]),\n",
       " array([ 0.12148092, -0.43041876,  0.31204626,  0.02845957, -0.11443338,\n",
       "        -0.09797923,  0.18071477, -0.05523455]),\n",
       " array([ 0.07741748, -0.11958703,  0.18975244,  0.01081603, -0.04121697,\n",
       "        -0.08018457,  0.17970264, -0.01028842]),\n",
       " array([ 0.05861503, -0.17231666,  0.21325161,  0.01528366, -0.04023269,\n",
       "        -0.08478163,  0.09349022, -0.00415939]),\n",
       " array([ 0.10655741, -0.26745806,  0.20893658,  0.01423291, -0.02596871,\n",
       "        -0.08205099,  0.13307976, -0.01079162]),\n",
       " array([ 0.13569871, -0.26970377,  0.49793973,  0.02547027, -0.09974643,\n",
       "        -0.26022675,  0.31634782, -0.01329566]),\n",
       " array([ 0.20107255, -0.4151793 ,  0.63146953,  0.03525957, -0.12310166,\n",
       "        -0.32464302,  0.4007561 , -0.02407988]),\n",
       " array([ 0.04466992, -0.16218193,  0.20966885,  0.015774  , -0.04392252,\n",
       "        -0.07482369,  0.07756413, -0.00243063]),\n",
       " array([ 0.09153861, -0.2350905 ,  0.11663489,  0.00924704, -0.01281801,\n",
       "        -0.03546449,  0.08263781, -0.00717325]),\n",
       " array([ 0.03713584, -0.18686627,  0.12086978,  0.0137977 , -0.03056512,\n",
       "        -0.0291558 ,  0.03881212, -0.00148946]),\n",
       " array([ 0.21498095, -0.51712954,  0.70210385,  0.03845114, -0.14458079,\n",
       "        -0.36043548,  0.45402478, -0.02853447]),\n",
       " array([ 0.23325276, -0.56826978,  0.75078483,  0.04291047, -0.13081677,\n",
       "        -0.3353116 ,  0.38333608, -0.0125076 ]),\n",
       " array([ 0.04873757, -0.19541096,  0.20391945,  0.01553318, -0.04576367,\n",
       "        -0.06191533,  0.06967338, -0.0015852 ]),\n",
       " array([ 0.04731747, -0.11795602,  0.04079085,  0.00321463, -0.00416688,\n",
       "        -0.00954937,  0.03084154, -0.00227835]),\n",
       " array([ 0.00330342, -0.03542751,  0.24600776,  0.00556384, -0.02773775,\n",
       "        -0.14209029,  0.08277463, -0.00025361]),\n",
       " array([ 0.11125004, -0.3782451 ,  0.71661131,  0.03747721, -0.15365243,\n",
       "        -0.32311258,  0.29363173, -0.00370927]),\n",
       " array([ 0.22731115, -0.51106664,  0.72591471,  0.04018052, -0.16388061,\n",
       "        -0.39677183,  0.50219747, -0.01164684]),\n",
       " array([ 0.05105367, -0.10305181,  0.03750569,  0.00603812, -0.02266517,\n",
       "        -0.00881883,  0.03422017, -0.00418648]),\n",
       " array([ 0.06784373, -0.2103201 ,  0.56350543,  0.02523771, -0.11293251,\n",
       "        -0.32867726,  0.35093852, -0.00166839]),\n",
       " array([ 0.00560164, -0.184885  ,  0.23700986,  0.01425239, -0.03497746,\n",
       "        -0.08664462,  0.06997106, -0.00229063]),\n",
       " array([ 4.21748590e-03, -3.63615339e-02,  2.25089030e-01,  6.05706247e-03,\n",
       "        -2.38193264e-02, -1.46641310e-01,  1.18359979e-01, -1.30398815e-04]),\n",
       " array([ 0.10297366, -0.75577082,  0.95090922,  0.05695086, -0.15053906,\n",
       "        -0.46642655,  0.51327542, -0.01083696]),\n",
       " array([ 0.20691195, -0.3861949 ,  0.51750303,  0.03497405, -0.14562906,\n",
       "        -0.26514402,  0.42084748, -0.0036811 ]),\n",
       " array([ 0.28080476, -0.78359735,  0.95990002,  0.05324401, -0.11581332,\n",
       "        -0.41857898,  0.58114435, -0.00231722]),\n",
       " array([-0.00750867,  0.0321053 , -0.03143014, -0.0013215 ,  0.00195923,\n",
       "         0.01089339, -0.02551196, -0.00020163]),\n",
       " array([ 0.00625119, -0.12067251,  0.20483894,  0.007864  , -0.01765522,\n",
       "        -0.10195439,  0.08971687,  0.00080005]),\n",
       " array([ 0.2760585 , -0.5806108 ,  0.83968083,  0.04807044, -0.20149906,\n",
       "        -0.45868639,  0.58107873,  0.0016698 ]),\n",
       " array([ 0.25920564, -0.58870985,  0.72985536,  0.04837198, -0.20369817,\n",
       "        -0.38126642,  0.53993563,  0.00701512]),\n",
       " array([ 0.28187488, -0.76772835,  1.0511563 ,  0.0549561 , -0.15108422,\n",
       "        -0.49724676,  0.62959334,  0.01161686]),\n",
       " array([-0.00843712,  0.06082724, -0.08971758, -0.00275298,  0.00440588,\n",
       "         0.03579085, -0.07057278, -0.00300831]),\n",
       " array([ 0.02078988, -0.15156595,  0.2634148 ,  0.01844949, -0.07085781,\n",
       "        -0.05956932,  0.04872209,  0.00044499]),\n",
       " array([ 0.02140243, -0.17160989,  0.20917691,  0.01849787, -0.05926278,\n",
       "        -0.03657963,  0.03526156,  0.00047562]),\n",
       " array([ 0.05012252, -0.12474304,  0.1133688 ,  0.00721068, -0.01571993,\n",
       "        -0.02879833,  0.04783201,  0.00158567]),\n",
       " array([ 0.2747603 , -0.69495649,  0.88811791,  0.05398688, -0.23142129,\n",
       "        -0.48947051,  0.63689597,  0.02574081]),\n",
       " array([ 0.01545484, -0.04549458,  0.11473682,  0.00485067, -0.02138247,\n",
       "        -0.07218502,  0.16708521,  0.00121248]),\n",
       " array([ 0.30387477, -0.73232591,  1.05189968,  0.05934963, -0.21071537,\n",
       "        -0.55341272,  0.66824382,  0.0280531 ]),\n",
       " array([ 0.0822361 , -0.11641511,  0.09465669,  0.00916769, -0.04260738,\n",
       "        -0.0415896 ,  0.12239281,  0.00903268]),\n",
       " array([ 0.01195806, -0.09107431,  0.34674903,  0.01453264, -0.07391977,\n",
       "        -0.14540131,  0.08704308,  0.0008489 ]),\n",
       " array([ 0.00215561, -0.11198463,  0.08206382,  0.01076154, -0.03612385,\n",
       "        -0.02151683,  0.02094297,  0.00491251]),\n",
       " array([ 0.19928988, -0.55783894,  0.3884367 ,  0.04563827, -0.20181922,\n",
       "        -0.15997663,  0.33270494,  0.04918927]),\n",
       " array([ 0.20863634, -0.67043304,  0.97333421,  0.05456555, -0.13793981,\n",
       "        -0.46812316,  0.59520938,  0.04484308]),\n",
       " array([ 0.01193331, -0.13305558,  0.26188379,  0.02026014, -0.07698233,\n",
       "        -0.04273394,  0.03154908,  0.00070267]),\n",
       " array([ 0.01865229, -0.06603003,  0.19229802,  0.00858617, -0.03846858,\n",
       "        -0.13173749,  0.19176995,  0.00215225]),\n",
       " array([ 0.12300133, -0.74502965,  0.66745283,  0.06718659, -0.24336941,\n",
       "        -0.29835037,  0.41792507,  0.08159159]),\n",
       " array([ 0.05827519, -0.61750396,  0.82173636,  0.05524683, -0.15083882,\n",
       "        -0.39208044,  0.41971964,  0.07142812]),\n",
       " array([-0.0318882 ,  0.13487317, -0.21105733, -0.00832745,  0.01519977,\n",
       "         0.07433933, -0.12984167, -0.01474333]),\n",
       " array([-0.01129473,  0.09668399, -0.19843279, -0.00557132,  0.00727076,\n",
       "         0.06745325, -0.14697925, -0.01775801]),\n",
       " array([ 0.00680633, -0.03379589,  0.13025081,  0.00474716, -0.01697902,\n",
       "        -0.09144662,  0.18430658,  0.00112517]),\n",
       " array([ 0.30526903, -0.55790231,  0.87400322,  0.06373053, -0.25282355,\n",
       "        -0.48443043,  0.64480251,  0.03019286]),\n",
       " array([ 0.11207373, -0.35633237,  0.93825952,  0.05531926, -0.22450264,\n",
       "        -0.50909804,  0.48579423,  0.01085906]),\n",
       " array([ 0.01835331, -0.08273112,  0.27031913,  0.01552237, -0.05817449,\n",
       "        -0.14615864,  0.11952312,  0.00228325]),\n",
       " array([ 0.15372293, -0.36661057,  0.75703587,  0.0576316 , -0.20261632,\n",
       "        -0.46454655,  0.60622331,  0.0195137 ]),\n",
       " array([ 0.08334875, -0.61535468,  0.80445792,  0.07885934, -0.16097487,\n",
       "        -0.38057631,  0.46694506,  0.10960165]),\n",
       " array([ 0.30881408, -0.62395158,  0.83562434,  0.08414313, -0.24581107,\n",
       "        -0.4520882 ,  0.65280642,  0.06713664]),\n",
       " array([ 0.03880071, -0.19463371,  0.06897112,  0.02123779, -0.06326076,\n",
       "        -0.0213194 ,  0.05862708,  0.03791532]),\n",
       " array([ 0.28838134, -0.6063596 ,  0.85461275,  0.08530264, -0.22277965,\n",
       "        -0.44348221,  0.61012825,  0.06917017]),\n",
       " array([ 0.30090192, -0.53363652,  0.77292183,  0.08163055, -0.24555149,\n",
       "        -0.43747661,  0.65949201,  0.05375902]),\n",
       " array([ 0.23964745, -0.53404813,  0.80732526,  0.07960767, -0.17686679,\n",
       "        -0.39073563,  0.52042728,  0.06945302]),\n",
       " array([ 0.16581203, -0.38405257,  0.76703649,  0.07069676, -0.21541927,\n",
       "        -0.46193659,  0.59795982,  0.02845052]),\n",
       " array([ 0.18545027, -0.42141672,  0.71406236,  0.06508355, -0.11016148,\n",
       "        -0.27355159,  0.36815917,  0.05412362]),\n",
       " array([ 0.0864934 , -0.07973772,  0.02690747,  0.00783957, -0.01541008,\n",
       "        -0.00981461,  0.08544609,  0.03122402]),\n",
       " array([-0.0035801 ,  0.04034492, -0.04832028, -0.00689609,  0.01209422,\n",
       "         0.02060109, -0.025956  , -0.01078309]),\n",
       " array([ 0.05373509, -0.37878571,  0.66238215,  0.05950808, -0.08379616,\n",
       "        -0.30084449,  0.38096084,  0.11102534]),\n",
       " array([ 0.18176327, -0.48145231,  0.6462402 ,  0.07641804, -0.16418322,\n",
       "        -0.32748536,  0.46724967,  0.09477454]),\n",
       " array([ 0.22135721, -0.43334066,  0.73815159,  0.07408   , -0.16756701,\n",
       "        -0.33245668,  0.41334169,  0.0487889 ]),\n",
       " array([-0.00081678,  0.03708178, -0.12348679, -0.00740037,  0.00802284,\n",
       "         0.04955729, -0.03657288, -0.00981169]),\n",
       " array([ 0.00960461, -0.03628941,  0.08558074,  0.0070323 , -0.01680055,\n",
       "        -0.06859163,  0.16305522,  0.00343821]),\n",
       " array([ 0.11899893, -0.28901014,  0.50895266,  0.04264855, -0.05597769,\n",
       "        -0.15216222,  0.23587473,  0.0481755 ]),\n",
       " array([ 0.086987  , -0.09484765,  0.04899837,  0.01153788, -0.02589436,\n",
       "        -0.02274475,  0.13997611,  0.03044292]),\n",
       " array([ 0.00316995, -0.01850548,  0.06174145,  0.00411298, -0.00897026,\n",
       "        -0.05426875,  0.10245988,  0.00144968]),\n",
       " array([-0.04070201,  0.08717898, -0.07872446, -0.00932303,  0.00689935,\n",
       "         0.00697909, -0.01829362, -0.00558763]),\n",
       " array([ 0.00010214, -0.00076323,  0.00052548,  0.00013305, -0.0002844 ,\n",
       "        -0.00020973,  0.00037781,  0.00022833]),\n",
       " array([ 0.03582187, -0.06327482,  0.06952435,  0.01026691, -0.02161156,\n",
       "        -0.04398622,  0.20121212,  0.01199193]),\n",
       " array([ 0.17420717, -0.37412195,  0.71561126,  0.08144119, -0.191531  ,\n",
       "        -0.37307892,  0.44757266,  0.03753818]),\n",
       " array([ 0.2332153 , -0.36226742,  0.37690582,  0.06676904, -0.15214818,\n",
       "        -0.23173782,  0.65267912,  0.07214332]),\n",
       " array([ 0.01154116, -0.03109733,  0.05407513,  0.00696748, -0.01357141,\n",
       "        -0.03983995,  0.09988169,  0.00419022]),\n",
       " array([ 0.17535208, -0.43571015,  0.49894603,  0.09184522, -0.16397814,\n",
       "        -0.25535998,  0.44250938,  0.11984952]),\n",
       " array([ 0.26500403, -0.42015037,  0.41598084,  0.08641045, -0.17575134,\n",
       "        -0.2377117 ,  0.58644401,  0.09889496]),\n",
       " array([ 0.04491582, -0.1136412 ,  0.02271907,  0.01545838, -0.02478584,\n",
       "        -0.00650149,  0.03901977,  0.05577642]),\n",
       " array([-0.026443  ,  0.08315857, -0.17924617, -0.02219418,  0.02682359,\n",
       "         0.03068731, -0.03558907, -0.00479177]),\n",
       " array([ 0.13574689, -0.29136072,  0.59782831,  0.07711762, -0.119293  ,\n",
       "        -0.22694876,  0.26836629,  0.0332898 ]),\n",
       " array([ 0.03370232, -0.21134514,  0.51242358,  0.04471443, -0.03315892,\n",
       "        -0.17391129,  0.27698586,  0.10285836]),\n",
       " array([ 0.03845048, -0.05826152,  0.03407946,  0.01079397, -0.01984597,\n",
       "        -0.01642436,  0.06229517,  0.02066577]),\n",
       " array([-0.08169055,  0.17156377, -0.30806006, -0.03462465,  0.02969658,\n",
       "         0.05247477, -0.08962218, -0.02140984]),\n",
       " array([ 0.15465898, -0.30711557,  0.46449754,  0.07435157, -0.11569296,\n",
       "        -0.22324436,  0.33560324,  0.0662784 ]),\n",
       " array([-0.03658382,  0.07683705, -0.0732522 , -0.0108207 ,  0.00545854,\n",
       "         0.00528948, -0.01546006, -0.00622348]),\n",
       " array([ 0.02035111, -0.03636657,  0.0387623 ,  0.00755512, -0.0122359 ,\n",
       "        -0.025026  ,  0.10515693,  0.00787255]),\n",
       " array([ 0.15127567, -0.31176161,  0.4304672 ,  0.07672653, -0.11696889,\n",
       "        -0.21170246,  0.34231271,  0.07780367]),\n",
       " array([ 0.14208251, -0.26967792,  0.44687898,  0.06970866, -0.10510536,\n",
       "        -0.2051358 ,  0.29246709,  0.05135837]),\n",
       " array([ 0.18929714, -0.31365181,  0.38191723,  0.07649243, -0.13799473,\n",
       "        -0.23036231,  0.51000333,  0.06466242]),\n",
       " array([ 0.13822835, -0.25919256,  0.41004524,  0.07209547, -0.1217279 ,\n",
       "        -0.23079208,  0.37227044,  0.04425071]),\n",
       " array([ 0.09476151, -0.20281818,  0.36294289,  0.05541375, -0.06356796,\n",
       "        -0.14202925,  0.20715416,  0.04895863]),\n",
       " array([ 0.23172653, -0.3498857 ,  0.27199863,  0.08039748, -0.12985442,\n",
       "        -0.14822921,  0.47705547,  0.11415022]),\n",
       " array([-0.00229881,  0.01450045, -0.03273952, -0.00527155,  0.0049384 ,\n",
       "         0.00266007, -0.00297025, -0.00045715]),\n",
       " array([-0.02939369,  0.10905136, -0.32068991, -0.04104971,  0.06128892,\n",
       "         0.10163534, -0.08973767, -0.00793876]),\n",
       " array([ 0.05031287, -0.28051566,  0.32862594,  0.08012175, -0.0894865 ,\n",
       "        -0.1390126 ,  0.24046516,  0.13216763]),\n",
       " array([ 0.08951476, -0.20278414,  0.31593969,  0.05693037, -0.06719392,\n",
       "        -0.13630133,  0.21696051,  0.06117924]),\n",
       " array([ 0.11592238, -0.21249193,  0.32988117,  0.06117057, -0.08402763,\n",
       "        -0.15361475,  0.24145894,  0.04918527]),\n",
       " array([-0.00662515,  0.06059023, -0.23587289, -0.01223749,  0.00427395,\n",
       "         0.04460813, -0.14484836, -0.06517786])]"
      ]
     },
     "execution_count": 43,
     "metadata": {},
     "output_type": "execute_result"
    }
   ],
   "source": [
    "t_error"
   ]
  },
  {
   "cell_type": "code",
   "execution_count": 40,
   "metadata": {},
   "outputs": [
    {
     "name": "stdout",
     "output_type": "stream",
     "text": [
      "epochs: 10000\n",
      "epochs: 20000\n",
      "epochs: 30000\n",
      "epochs: 40000\n",
      "epochs: 50000\n",
      "epochs: 60000\n",
      "epochs: 70000\n",
      "epochs: 80000\n",
      "epochs: 90000\n",
      "epochs: 100000\n",
      "Final prediction\n",
      "(array([0, 0]), 2.769390318381638e-05)\n",
      "(array([0, 1]), 0.995154295769496)\n",
      "(array([1, 0]), 0.9951532983339083)\n",
      "(array([1, 1]), 2.783428053814478e-05)\n"
     ]
    }
   ],
   "source": [
    "numpy.random.seed(0)\n",
    "nn = my_MLP([2,2,1])\n",
    "\n",
    "# Set the input data\n",
    "X = numpy.array([[0, 0], [0, 1],\n",
    "                [1, 0], [1, 1]])\n",
    "\n",
    "# Set the labels, the correct results for the xor operation\n",
    "y = numpy.array([0, 1, 1, 0])\n",
    "\n",
    "# Call the fit function and train the network for a chosen number of epochs\n",
    "nn.fit(X, y, epochs=100000)\n",
    "\n",
    "# Show the prediction results\n",
    "print(\"Final prediction\")\n",
    "for s in X:\n",
    "    print(s, nn.predict_single_data(s))"
   ]
  },
  {
   "cell_type": "code",
   "execution_count": 34,
   "metadata": {},
   "outputs": [
    {
     "name": "stdout",
     "output_type": "stream",
     "text": [
      "epochs: 10000\n",
      "epochs: 20000\n",
      "epochs: 30000\n",
      "epochs: 40000\n",
      "epochs: 50000\n",
      "epochs: 60000\n",
      "epochs: 70000\n",
      "epochs: 80000\n",
      "epochs: 90000\n",
      "epochs: 100000\n",
      "Final prediction\n",
      "(array([0, 0]), 4.937191807404877e-06)\n",
      "(array([0, 1]), 0.9942401208448384)\n",
      "(array([1, 0]), 0.9945517089211744)\n",
      "(array([1, 1]), 9.290021024179977e-06)\n"
     ]
    }
   ],
   "source": [
    "numpy.random.seed(0)\n",
    "nn = my_MLP([2,6,1])\n",
    "\n",
    "# Set the input data\n",
    "X = numpy.array([[0, 0], [0, 1],\n",
    "                [1, 0], [1, 1]])\n",
    "\n",
    "# Set the labels, the correct results for the xor operation\n",
    "y = numpy.array([0, 1, 1, 0])\n",
    "\n",
    "# Call the fit function and train the network for a chosen number of epochs\n",
    "nn.fit(X, y, epochs=100000)\n",
    "\n",
    "# Show the prediction results\n",
    "print(\"Final prediction\")\n",
    "for s in X:\n",
    "    print(s, nn.predict_single_data(s))"
   ]
  },
  {
   "cell_type": "code",
   "execution_count": 11,
   "metadata": {},
   "outputs": [],
   "source": [
    "xt,yt = sample_points(4)"
   ]
  },
  {
   "cell_type": "code",
   "execution_count": null,
   "metadata": {},
   "outputs": [],
   "source": []
  },
  {
   "cell_type": "code",
   "execution_count": 34,
   "metadata": {},
   "outputs": [
    {
     "name": "stderr",
     "output_type": "stream",
     "text": [
      " 30%|███       | 30/100 [00:00<00:00, 209.99it/s]"
     ]
    },
    {
     "name": "stdout",
     "output_type": "stream",
     "text": [
      "epochs: 10\n",
      "epochs: 20\n",
      "epochs: 30\n",
      "epochs: 40\n",
      "epochs: 50\n"
     ]
    },
    {
     "name": "stderr",
     "output_type": "stream",
     "text": [
      " 90%|█████████ | 90/100 [00:00<00:00, 216.31it/s]"
     ]
    },
    {
     "name": "stdout",
     "output_type": "stream",
     "text": [
      "epochs: 60\n",
      "epochs: 70\n",
      "epochs: 80\n",
      "epochs: 90\n",
      "epochs: 100\n"
     ]
    },
    {
     "name": "stderr",
     "output_type": "stream",
     "text": [
      "100%|██████████| 100/100 [00:00<00:00, 217.10it/s]\n"
     ]
    }
   ],
   "source": [
    "numpy.random.seed(0)\n",
    "nn = my_MLP([2,8,1])\n",
    "xt,yt = sample_points(10000)\n",
    "xv,yv = sample_points(2000)\n",
    "t_error,v_error = nn.fit(xt,yt,xv,yv)\n"
   ]
  },
  {
   "cell_type": "code",
   "execution_count": 35,
   "metadata": {},
   "outputs": [
    {
     "data": {
      "text/plain": [
       "[1.159868190151853,\n",
       " 1.090858732527839,\n",
       " 0.9816567856913672,\n",
       " 0.8806820194941529,\n",
       " 0.7861764372277111,\n",
       " 0.5651481287804668,\n",
       " 0.43401960864444256,\n",
       " 0.311607431969859,\n",
       " 0.25510108435056905,\n",
       " 0.14915495637969364]"
      ]
     },
     "execution_count": 35,
     "metadata": {},
     "output_type": "execute_result"
    }
   ],
   "source": [
    "v_error"
   ]
  },
  {
   "cell_type": "code",
   "execution_count": 37,
   "metadata": {},
   "outputs": [
    {
     "data": {
      "text/plain": [
       "(8,)"
      ]
     },
     "execution_count": 37,
     "metadata": {},
     "output_type": "execute_result"
    }
   ],
   "source": [
    "t_error[0].shape"
   ]
  },
  {
   "cell_type": "code",
   "execution_count": 13,
   "metadata": {},
   "outputs": [
    {
     "data": {
      "text/plain": [
       "(4, 2)"
      ]
     },
     "execution_count": 13,
     "metadata": {},
     "output_type": "execute_result"
    }
   ],
   "source": [
    "xt.shape"
   ]
  },
  {
   "cell_type": "code",
   "execution_count": 10,
   "metadata": {},
   "outputs": [
    {
     "ename": "IndexError",
     "evalue": "invalid index to scalar variable.",
     "output_type": "error",
     "traceback": [
      "\u001b[0;31m---------------------------------------------------------------------------\u001b[0m",
      "\u001b[0;31mIndexError\u001b[0m                                Traceback (most recent call last)",
      "\u001b[0;32m<ipython-input-10-d98903facb23>\u001b[0m in \u001b[0;36m<module>\u001b[0;34m\u001b[0m\n\u001b[1;32m      1\u001b[0m \u001b[0myu\u001b[0m \u001b[0;34m=\u001b[0m \u001b[0myt\u001b[0m\u001b[0;34m[\u001b[0m\u001b[0;36m2\u001b[0m\u001b[0;34m]\u001b[0m\u001b[0;34m\u001b[0m\u001b[0;34m\u001b[0m\u001b[0m\n\u001b[0;32m----> 2\u001b[0;31m \u001b[0myu\u001b[0m\u001b[0;34m[\u001b[0m\u001b[0;34m-\u001b[0m\u001b[0;36m1\u001b[0m\u001b[0;34m]\u001b[0m\u001b[0;34m\u001b[0m\u001b[0;34m\u001b[0m\u001b[0m\n\u001b[0m",
      "\u001b[0;31mIndexError\u001b[0m: invalid index to scalar variable."
     ]
    }
   ],
   "source": [
    "yu = yt[2]\n",
    "yu[-1]"
   ]
  },
  {
   "cell_type": "code",
   "execution_count": 60,
   "metadata": {},
   "outputs": [
    {
     "data": {
      "text/plain": [
       "3"
      ]
     },
     "execution_count": 60,
     "metadata": {},
     "output_type": "execute_result"
    }
   ],
   "source": [
    "a = [0,1,2,3]\n",
    "a[-1]"
   ]
  },
  {
   "cell_type": "code",
   "execution_count": null,
   "metadata": {},
   "outputs": [],
   "source": []
  }
 ],
 "metadata": {
  "kernelspec": {
   "display_name": "Python 3",
   "language": "python",
   "name": "python3"
  },
  "language_info": {
   "codemirror_mode": {
    "name": "ipython",
    "version": 3
   },
   "file_extension": ".py",
   "mimetype": "text/x-python",
   "name": "python",
   "nbconvert_exporter": "python",
   "pygments_lexer": "ipython3",
   "version": "3.7.7"
  }
 },
 "nbformat": 4,
 "nbformat_minor": 2
}
