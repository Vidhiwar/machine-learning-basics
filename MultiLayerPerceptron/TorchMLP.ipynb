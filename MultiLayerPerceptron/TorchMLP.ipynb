{
 "cells": [
  {
   "cell_type": "code",
   "execution_count": 2,
   "metadata": {},
   "outputs": [],
   "source": [
    "import torch\n",
    "import time\n",
    "import numpy as np\n",
    "import matplotlib.pyplot as plt\n",
    "from tqdm import tqdm"
   ]
  },
  {
   "cell_type": "code",
   "execution_count": 9,
   "metadata": {},
   "outputs": [],
   "source": [
    "class Data(torch.utils.data.Dataset):\n",
    "    def __init__(self, N):\n",
    "        super(Data,self).__init__()\n",
    "        self.inputs, self.labels = self.data_points(N)\n",
    "    def __len__(self):\n",
    "        return len(self.labels)\n",
    "    def __getitem__(self,idx):\n",
    "        x = torch.from_numpy(self.inputs[idx].reshape(-1)).float()\n",
    "        y = torch.from_numpy(self.labels[idx].reshape(-1)).float()\n",
    "        return x,y\n",
    "    def data_points(self,n):\n",
    "        radius = np.random.uniform(low = 0, high = 2, size = n).reshape(-1,1)\n",
    "        angle = np.random.uniform(low = 0, high = 2*np.pi, size = n).reshape(-1,1)\n",
    "        x1 = radius*np.cos(angle)\n",
    "        x2 = radius*np.sin(angle)\n",
    "        y = (radius<1).astype(int).reshape(-1)\n",
    "        x = np.concatenate([x1,x2], axis = 1)\n",
    "        print(x.shape,y.shape)\n",
    "        return x,y"
   ]
  },
  {
   "cell_type": "code",
   "execution_count": 10,
   "metadata": {},
   "outputs": [],
   "source": [
    "class MLP(torch.nn.Module):\n",
    "    def __init__(self,arch = [2,16,1]):\n",
    "        super(MLP,self).__init__()\n",
    "        self.arch = arch\n",
    "        self.H = torch.nn.Linear(self.arch[0], self.arch[1])\n",
    "        self.O = torch.nn.Linear(self.arch[1], self.arch[2])\n",
    "        self.A = torch.nn.Tanh()\n",
    "        \n",
    "    def forward(self,x):\n",
    "        x = self.A(self.H(x))\n",
    "        x = torch.sigmoid(self.O(x))\n",
    "        return x"
   ]
  },
  {
   "cell_type": "code",
   "execution_count": 11,
   "metadata": {},
   "outputs": [],
   "source": [
    "def Accuracy(y_pred, y_true):\n",
    "    y_pred = (y_pred>0.5)\n",
    "    return (y_pred.int() == y_true.int()).float().mean()\n",
    "\n",
    "def Eval(model, dataloader):\n",
    "    loss_function = torch.nn.BCELoss()\n",
    "    x, y_true = next(dataloader.__iter__())\n",
    "    \n",
    "    if torch.cuda.is_available():\n",
    "        x = x.cuda()\n",
    "        y_true = y_true.cuda()\n",
    "        \n",
    "    y_pred = model(x)\n",
    "    return loss_function(y_pred, y_true), Accuracy(y_pred, y_true)"
   ]
  },
  {
   "cell_type": "code",
   "execution_count": 12,
   "metadata": {},
   "outputs": [],
   "source": [
    "def Train(model, dataloader_train, dataloader_val, dataloader_test, num_iter = 10000, epoches = 1, lr = 0.01):\n",
    "    loss_function = torch.nn.BCELoss()\n",
    "    history_train = []\n",
    "    history_val = []\n",
    "    history_test = []\n",
    "    \n",
    "    for i in range(0,epoches):\n",
    "        for j in tqdm(range(0,num_iter)):\n",
    "            \n",
    "            x,y_true = next(dataloader_train.__iter__())\n",
    "            \n",
    "            if torch.cuda.is_available():\n",
    "                x = x.cuda()\n",
    "                y_true = y_true.cuda()\n",
    "                \n",
    "            y_pred = model(x)\n",
    "            loss = loss_function(y_pred,y_true)\n",
    "            model.zero_grad()\n",
    "            loss.backward()\n",
    "            \n",
    "            for w in model.parameters():\n",
    "                w.data.sub_(w.grad.data * lr)\n",
    "                \n",
    "            train_loss, train_acc = Eval(model, dataloader_train)\n",
    "            val_loss, val_acc = Eval(model, dataloader_val)\n",
    "            test_loss, test_acc = Eval(model, dataloader_test)\n",
    "\n",
    "            history_train.append([train_loss.item(), train_acc.item()])\n",
    "            history_val.append([val_loss.item(), val_acc.item()])\n",
    "            history_test.append([test_loss.item(), test_acc.item()])\n",
    "            \n",
    "    return history_train, history_val, history_test\n",
    "\n",
    "            \n",
    "            "
   ]
  },
  {
   "cell_type": "code",
   "execution_count": 13,
   "metadata": {},
   "outputs": [
    {
     "name": "stdout",
     "output_type": "stream",
     "text": [
      "(10000, 2) (10000,)\n",
      "(2000, 2) (2000,)\n",
      "(2000, 2) (2000,)\n"
     ]
    }
   ],
   "source": [
    "batch_size = 1024\n",
    "dataset_train = Data(10000)\n",
    "dataset_val = Data(2000)\n",
    "dataset_test = Data(2000)\n",
    "\n",
    "dataloader_train = torch.utils.data.DataLoader(dataset_train, batch_size = batch_size)\n",
    "dataloader_val = torch.utils.data.DataLoader(dataset_val, batch_size = batch_size)\n",
    "dataloader_test = torch.utils.data.DataLoader(dataset_test, batch_size = batch_size)\n"
   ]
  },
  {
   "cell_type": "code",
   "execution_count": 8,
   "metadata": {},
   "outputs": [
    {
     "data": {
      "text/plain": [
       "<__main__.Data at 0x7f960c099a90>"
      ]
     },
     "execution_count": 8,
     "metadata": {},
     "output_type": "execute_result"
    }
   ],
   "source": []
  },
  {
   "cell_type": "code",
   "execution_count": 87,
   "metadata": {},
   "outputs": [
    {
     "name": "stderr",
     "output_type": "stream",
     "text": [
      "100%|██████████| 10/10 [00:00<00:00, 18.52it/s]\n"
     ]
    }
   ],
   "source": [
    "model = MLP()\n",
    "num_iter=10\n",
    "if torch.cuda.is_available():\n",
    "    model.cuda()\n",
    "\n",
    "history_train, history_val, history_test = Train(model, dataloader_train, dataloader_val, dataloader_test, num_iter=num_iter)\n"
   ]
  },
  {
   "cell_type": "code",
   "execution_count": null,
   "metadata": {},
   "outputs": [],
   "source": []
  },
  {
   "cell_type": "code",
   "execution_count": 88,
   "metadata": {},
   "outputs": [
    {
     "data": {
      "text/plain": [
       "[<matplotlib.lines.Line2D at 0x7fb1301cb190>]"
      ]
     },
     "execution_count": 88,
     "metadata": {},
     "output_type": "execute_result"
    },
    {
     "data": {
      "image/png": "[encoded data removed]",
      "text/plain": [
       "<Figure size 432x288 with 1 Axes>"
      ]
     },
     "metadata": {
      "needs_background": "light"
     },
     "output_type": "display_data"
    }
   ],
   "source": [
    "plt.figure()\n",
    "plt.title(\"Training Losses\")\n",
    "plt.xlabel(\"Iteration\")\n",
    "plt.ylabel(\"Loss\")\n",
    "plt.plot(range(1, num_iter + 1),[a[0] for a in history_train])"
   ]
  },
  {
   "cell_type": "code",
   "execution_count": 89,
   "metadata": {},
   "outputs": [
    {
     "data": {
      "text/plain": [
       "[<matplotlib.lines.Line2D at 0x7fb13019e490>]"
      ]
     },
     "execution_count": 89,
     "metadata": {},
     "output_type": "execute_result"
    },
    {
     "data": {
      "image/png": "[encoded data removed]",
      "text/plain": [
       "<Figure size 432x288 with 1 Axes>"
      ]
     },
     "metadata": {
      "needs_background": "light"
     },
     "output_type": "display_data"
    }
   ],
   "source": [
    "plt.figure()\n",
    "plt.title(\"Validation Losses\")\n",
    "plt.xlabel(\"Iteration\")\n",
    "plt.ylabel(\"Loss\")\n",
    "plt.plot(range(1, num_iter + 1),[a[0] for a in history_val])"
   ]
  },
  {
   "cell_type": "code",
   "execution_count": 90,
   "metadata": {},
   "outputs": [
    {
     "data": {
      "text/plain": [
       "[<matplotlib.lines.Line2D at 0x7fb1300ff850>]"
      ]
     },
     "execution_count": 90,
     "metadata": {},
     "output_type": "execute_result"
    },
    {
     "data": {
      "image/png": "[encoded data removed]",
      "text/plain": [
       "<Figure size 432x288 with 1 Axes>"
      ]
     },
     "metadata": {
      "needs_background": "light"
     },
     "output_type": "display_data"
    }
   ],
   "source": [
    "plt.figure()\n",
    "plt.title(\"Test Accuracy\")\n",
    "plt.xlabel(\"Iteration\")\n",
    "plt.ylabel(\"Accuracy\")\n",
    "plt.plot(range(1, num_iter + 1),[a[1]*100 for a in history_test])"
   ]
  },
  {
   "cell_type": "code",
   "execution_count": null,
   "metadata": {},
   "outputs": [],
   "source": []
  }
 ],
 "metadata": {
  "kernelspec": {
   "display_name": "Python 3",
   "language": "python",
   "name": "python3"
  },
  "language_info": {
   "codemirror_mode": {
    "name": "ipython",
    "version": 3
   },
   "file_extension": ".py",
   "mimetype": "text/x-python",
   "name": "python",
   "nbconvert_exporter": "python",
   "pygments_lexer": "ipython3",
   "version": "3.7.7"
  }
 },
 "nbformat": 4,
 "nbformat_minor": 4
}
