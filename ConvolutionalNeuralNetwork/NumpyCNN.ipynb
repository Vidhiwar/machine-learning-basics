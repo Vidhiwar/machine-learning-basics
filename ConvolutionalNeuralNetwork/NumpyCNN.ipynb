{
 "cells": [
  {
   "cell_type": "code",
   "execution_count": 307,
   "metadata": {},
   "outputs": [],
   "source": [
    "import numpy as np\n",
    "import torch\n",
    "import torch.nn as nn\n",
    "from torch.autograd import Variable"
   ]
  },
  {
   "cell_type": "code",
   "execution_count": 308,
   "metadata": {},
   "outputs": [],
   "source": [
    "class Conv1D():\n",
    "    def __init__(self,in_channel,out_channel,kernel_size,stride=1, W_init=None, b_init=None):\n",
    "        \n",
    "        self.in_channel = in_channel\n",
    "        self.out_channel = out_channel\n",
    "        self.kernel_size = kernel_size\n",
    "        self.stride = stride\n",
    "        self.W = np.random.rand(out_channel,in_channel,kernel_size)\n",
    "        self.b = np.zeros(out_channel)\n",
    "        self.l = 0\n",
    "        self.X = None\n",
    "        \n",
    "        self.dW, self.db = np.zeros(self.W.shape), np.zeros(self.b.shape)\n",
    "        \n",
    "        if W_init:\n",
    "            self.W = W_init\n",
    "        if b_init:\n",
    "            self.b = b_init\n",
    "    def __call__(self,x):\n",
    "        return self.forward(x)\n",
    "    \n",
    "    def forward(self,x):\n",
    "        self.l = x.shape[2]\n",
    "        self.X = x\n",
    "        start = 0\n",
    "        end = self.kernel_size\n",
    "        while end <= x.shape[2]:\n",
    "            segment = x[:,:,start:end]\n",
    "\n",
    "            if start == 0:\n",
    "                out = np.tensordot(segment,self.W.T,axes=([1,2],[1,0])) + np.repeat(np.expand_dims(self.b,axis=0),segment.shape[0],axis = 0)\n",
    "                out = np.expand_dims(out,axis = 2)\n",
    "            else:\n",
    "                out = np.concatenate((out,np.expand_dims(np.tensordot(segment,self.W.T,axes=([1,2],[1,0])) + np.repeat(np.expand_dims(self.b,axis=0),segment.shape[0],axis = 0),axis = 2)),axis = 2)\n",
    "            start += self.stride\n",
    "            end += self.stride\n",
    "            \n",
    "        \n",
    "        return out\n",
    "    \n",
    "    def backward(self,delta):\n",
    "        batch = delta.shape[0]\n",
    "        dy = np.zeros((batch,self.in_channel,self.l))\n",
    "                       \n",
    "        start = 0\n",
    "        end = self.kernel_size\n",
    "        for i in range(delta.shape[2]):\n",
    "            dy[:,:,start:end] += np.tensordot(delta[:,:,i]-np.repeat(np.expand_dims(self.b,axis=0),batch,axis = 0),self.W,axes=([1],[0]))\n",
    "            self.dW += np.tensordot(delta[:,:,i]-np.repeat(np.expand_dims(self.b,axis=0),batch,axis = 0),self.X[:,:,start:end],axes=([0],[0]))\n",
    "\n",
    "            \n",
    "            start += self.stride\n",
    "            end += self.stride  \n",
    "            \n",
    "        self.db = np.sum(np.sum(delta,axis = 2),axis = 0)\n",
    "        \n",
    "        return dy\n",
    "        "
   ]
  },
  {
   "cell_type": "code",
   "execution_count": 309,
   "metadata": {},
   "outputs": [],
   "source": [
    "def compare(x,y):\n",
    "    print(abs(x-y.detach().numpy()).max())\n",
    "    return"
   ]
  },
  {
   "cell_type": "code",
   "execution_count": 310,
   "metadata": {},
   "outputs": [],
   "source": [
    "\n",
    "net1 = Conv1D(8, 12, 3, 2)\n",
    "net2 = torch.nn.Conv1d(8, 12, 3, 2)"
   ]
  },
  {
   "cell_type": "code",
   "execution_count": 311,
   "metadata": {},
   "outputs": [],
   "source": [
    "x1 = np.random.rand(10, 8, 20)\n",
    "x2 = Variable(torch.tensor(x1),requires_grad=True)"
   ]
  },
  {
   "cell_type": "code",
   "execution_count": 312,
   "metadata": {},
   "outputs": [],
   "source": [
    "net2.weight = nn.Parameter(torch.tensor(net1.W))\n",
    "net2.bias = nn.Parameter(torch.tensor(net1.b))"
   ]
  },
  {
   "cell_type": "code",
   "execution_count": 313,
   "metadata": {},
   "outputs": [],
   "source": [
    "y1 = net1(x1)\n",
    "b, c, w = y1.shape"
   ]
  },
  {
   "cell_type": "code",
   "execution_count": 314,
   "metadata": {},
   "outputs": [],
   "source": [
    "delta = np.random.randn(b,c,w)\n",
    "dx = net1.backward(delta)"
   ]
  },
  {
   "cell_type": "code",
   "execution_count": 315,
   "metadata": {},
   "outputs": [],
   "source": [
    "y2 = net2(x2)\n",
    "delta = torch.tensor(delta)\n",
    "y2.backward(delta)"
   ]
  },
  {
   "cell_type": "code",
   "execution_count": 316,
   "metadata": {},
   "outputs": [
    {
     "name": "stdout",
     "output_type": "stream",
     "text": [
      "3.552713678800501e-15\n",
      "8.881784197001252e-16\n",
      "3.552713678800501e-15\n",
      "3.552713678800501e-15\n"
     ]
    }
   ],
   "source": [
    "compare(y1, y2)\n",
    "compare(dx, x2.grad)\n",
    "compare(net1.dW, net2.weight.grad)\n",
    "compare(net1.db, net2.bias.grad)"
   ]
  },
  {
   "cell_type": "code",
   "execution_count": null,
   "metadata": {},
   "outputs": [],
   "source": []
  },
  {
   "cell_type": "code",
   "execution_count": null,
   "metadata": {},
   "outputs": [],
   "source": []
  },
  {
   "cell_type": "code",
   "execution_count": null,
   "metadata": {},
   "outputs": [],
   "source": []
  },
  {
   "cell_type": "code",
   "execution_count": null,
   "metadata": {},
   "outputs": [],
   "source": []
  },
  {
   "cell_type": "code",
   "execution_count": null,
   "metadata": {},
   "outputs": [],
   "source": []
  }
 ],
 "metadata": {
  "kernelspec": {
   "display_name": "Python 3",
   "language": "python",
   "name": "python3"
  },
  "language_info": {
   "codemirror_mode": {
    "name": "ipython",
    "version": 3
   },
   "file_extension": ".py",
   "mimetype": "text/x-python",
   "name": "python",
   "nbconvert_exporter": "python",
   "pygments_lexer": "ipython3",
   "version": "3.8.5"
  }
 },
 "nbformat": 4,
 "nbformat_minor": 4
}
