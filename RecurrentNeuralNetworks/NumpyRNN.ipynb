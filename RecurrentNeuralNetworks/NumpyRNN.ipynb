{
 "cells": [
  {
   "cell_type": "code",
   "execution_count": 1,
   "metadata": {},
   "outputs": [],
   "source": [
    "import os\n",
    "import torch\n",
    "import numpy as np\n",
    "import idx2numpy\n",
    "import torchvision\n",
    "import torch.nn as nn\n",
    "from torch.autograd import Variable\n",
    "import torchvision.transforms as transforms\n",
    "from tqdm import tqdm\n",
    "import matplotlib.pyplot as plt"
   ]
  },
  {
   "cell_type": "code",
   "execution_count": 2,
   "metadata": {},
   "outputs": [],
   "source": [
    "path = '/home/vidhiwar/Data/mnist'\n",
    "np.random.seed(10)\n"
   ]
  },
  {
   "cell_type": "code",
   "execution_count": 3,
   "metadata": {},
   "outputs": [],
   "source": [
    "\n",
    "class Tanh:\n",
    "    def forward(self, x):\n",
    "        return np.tanh(x)\n",
    "\n",
    "    def backward(self, x, top_diff):\n",
    "        output = self.forward(x)\n",
    "        return (1.0 - np.square(output)) * top_diff\n",
    "    \n",
    "class MultiplyGate:\n",
    "    def forward(self,W, x):\n",
    "        return np.dot(W, x)\n",
    "\n",
    "    def backward(self, W, x, dz):\n",
    "        dW = np.asarray(np.dot(np.transpose(np.asmatrix(dz)), np.asmatrix(x)))\n",
    "        dx = np.dot(np.transpose(W), dz)\n",
    "        return dW, dx\n",
    "\n",
    "class AddGate:\n",
    "    def forward(self, x1, x2):\n",
    "        return x1 + x2\n",
    "\n",
    "    def backward(self, x1, x2, dz):\n",
    "        dx1 = dz * np.ones_like(x1)\n",
    "        dx2 = dz * np.ones_like(x2)\n",
    "        return dx1, dx2\n",
    "    \n",
    "class RNNLayer:\n",
    "    def __init__(self):\n",
    "        self.mulGate = MultiplyGate()\n",
    "        self.addGate = AddGate()\n",
    "        self.activation = Tanh()\n",
    "        \n",
    "        \n",
    "    def forward(self, x, prev_s, U, W, V):\n",
    "\n",
    "        self.mulu = self.mulGate.forward(U, x)\n",
    "        self.mulw = self.mulGate.forward(W, prev_s)\n",
    "\n",
    "        self.add = self.addGate.forward(self.mulw, self.mulu)\n",
    "        self.s = self.activation.forward(self.add)\n",
    "\n",
    "        self.mulv = self.mulGate.forward(V, self.s)\n",
    "\n",
    "    def backward(self, x, prev_s, U, W, V, diff_s, dmulv):\n",
    "        self.forward(x, prev_s, U, W, V)\n",
    "\n",
    "        dV, dsv = self.mulGate.backward(V, self.s, dmulv)\n",
    "        ds = dsv + diff_s\n",
    "        dadd = self.activation.backward(self.add, ds)\n",
    "        dmulw, dmulu = self.addGate.backward(self.mulw, self.mulu, dadd)\n",
    "        dW, dprev_s = self.mulGate.backward(W, prev_s, dmulw)\n",
    "        dU, dx = self.mulGate.backward(U, x, dmulu)\n",
    "        return (dprev_s, dU, dW, dV)\n",
    "\n",
    "class Softmax:\n",
    "    def predict(self, x):\n",
    "        exp_scores = np.exp(x)\n",
    "        return exp_scores / np.sum(exp_scores)\n",
    "\n",
    "    def loss(self, x, y):\n",
    "        probs = self.predict(x)\n",
    "\n",
    "        return -np.log(probs[y])\n",
    "\n",
    "    def diff(self, x, y):\n",
    "        probs = self.predict(x)\n",
    "        probs[y] -= 1.0\n",
    "        return probs\n",
    "    \n",
    "class RNN_numpy:\n",
    "    def __init__(self, input_size, hidden_size, output_size, bptt_truncate=4):\n",
    "        self.input_size = input_size\n",
    "        self.hidden_size = hidden_size\n",
    "        self.bptt_truncate = bptt_truncate\n",
    "        self.output_size = output_size\n",
    "        self.U = np.random.uniform(-np.sqrt(1./hidden_size), np.sqrt(1./hidden_size),(hidden_size,input_size))\n",
    "        self.W = np.random.uniform(-np.sqrt(1./input_size), np.sqrt(1./input_size),(hidden_size, hidden_size))\n",
    "        self.V = np.random.uniform(-np.sqrt(1./hidden_size), np.sqrt(1./hidden_size),(output_size, hidden_size))\n",
    "        \n",
    "    def forward(self, x):\n",
    "        time_steps = x.shape[0]\n",
    "        layers = []\n",
    "        h = np.zeros(self.hidden_size)\n",
    "        for t in range(time_steps):\n",
    "            layer = RNNLayer()\n",
    "            layer.forward(x[t,:], h, self.U, self.W, self.V)\n",
    "            h = layer.s\n",
    "            layers.append(layer)\n",
    "        return layers\n",
    "    \n",
    "    def predict(self, x):\n",
    "        output_fn = Softmax()\n",
    "        layers = self.forward(x)\n",
    "        return [np.argmax(output_fn.predict(layer.mulv)) for layer in layers]\n",
    "    \n",
    "    def bptt(self, x, y):\n",
    "        output = Softmax()\n",
    "        layers = self.forward(x)\n",
    "        dU = np.zeros(self.U.shape)\n",
    "        dV = np.zeros(self.V.shape)\n",
    "        dW = np.zeros(self.W.shape)\n",
    "        \n",
    "        time_steps = len(layers)\n",
    "        prev_h = np.zeros(self.hidden_size)\n",
    "        diff_h = np.zeros_like(prev_h)\n",
    "        for t in range(time_steps):\n",
    "            \n",
    "            dmulv = output.diff(layers[t].mulv, y)\n",
    "            inputs = x[t,:]\n",
    "            dprev_s, dU_t, dW_t, dV_t = layers[t].backward(inputs, prev_h, self.U, self.W, self.V, diff_h, dmulv)\n",
    "            prev_h = layers[t].s\n",
    "            dmulv = np.zeros(self.output_size)\n",
    "            for i in range(t-1, max(-1, t-self.bptt_truncate-1), -1):\n",
    "                inputs = x[t,:]\n",
    "                prev_s_i = np.zeros(self.hidden_size) if i == 0 else layers[i-1].s\n",
    "                dprev_s, dU_i, dW_i, dV_i = layers[i].backward(inputs, prev_s_i, self.U, self.W, self.V, dprev_s, dmulv)\n",
    "                dU_t += dU_i\n",
    "                dW_t += dW_i\n",
    "            dV += dV_t\n",
    "            dU += dU_t\n",
    "            dW += dW_t\n",
    "        return (dU, dW, dV)\n",
    "    \n",
    "    def backward(self, x, y, lr):\n",
    "        dU, dW, dV = self.bptt(x, y)\n",
    "        self.U -= lr * dU\n",
    "        self.V -= lr * dV\n",
    "        self.W -= lr * dW"
   ]
  },
  {
   "cell_type": "code",
   "execution_count": 4,
   "metadata": {},
   "outputs": [],
   "source": [
    "class RNN_torch(nn.Module):\n",
    "    def __init__(self, INPUT_SIZE, HIDDEN_SIZE, OUTPUT_SIZE):\n",
    "        super(RNN_torch, self).__init__()\n",
    "        self.rnn = nn.RNN(input_size=INPUT_SIZE, hidden_size=HIDDEN_SIZE, num_layers=1, batch_first=True)\n",
    "        self.fc = nn.Linear(HIDDEN_SIZE,OUTPUT_SIZE)\n",
    "    def forward(self,x):\n",
    "        out,_ = self.rnn(x,None)\n",
    "        out = self.fc(out[:,-1,:])\n",
    "        return out\n",
    "            "
   ]
  },
  {
   "cell_type": "code",
   "execution_count": 16,
   "metadata": {},
   "outputs": [],
   "source": [
    "EPOCH = 10\n",
    "BATCH_SIZE = 1\n",
    "TIME_STEP = 28\n",
    "INPUT_SIZE = 28\n",
    "HIDDEN_SIZE = 64\n",
    "OUTPUT_SIZE = 10\n",
    "LR = 0.00001\n",
    "\n",
    "device = 'cuda'\n",
    "\n",
    "train_data = torchvision.datasets.MNIST(root=path,\n",
    "                                        train=True,\n",
    "                                        transform=transforms.ToTensor(),\n",
    "                                        download=True)\n",
    "test_data = torchvision.datasets.MNIST(root=path,\n",
    "                                        train=False,\n",
    "                                        transform=transforms.ToTensor())\n",
    "\n",
    "train_loader = torch.utils.data.DataLoader(dataset=train_data,\n",
    "                                           batch_size=BATCH_SIZE,\n",
    "                                           shuffle=True)\n",
    "\n",
    "test_loader = torch.utils.data.DataLoader(dataset=test_data,\n",
    "                                           batch_size=BATCH_SIZE,\n",
    "                                           shuffle=False)"
   ]
  },
  {
   "cell_type": "code",
   "execution_count": 17,
   "metadata": {},
   "outputs": [
    {
     "name": "stderr",
     "output_type": "stream",
     "text": [
      "100%|██████████| 60000/60000 [10:30<00:00, 95.14it/s]\n",
      "  0%|          | 9/60000 [00:00<11:12, 89.17it/s]"
     ]
    },
    {
     "name": "stdout",
     "output_type": "stream",
     "text": [
      "Epoch: 0  Train loss: 1.8360860755096784  Test loss: 1.6163178321647498  Train accuracy: 28.47833333333333  Test accuracy: 35.32\n"
     ]
    },
    {
     "name": "stderr",
     "output_type": "stream",
     "text": [
      "100%|██████████| 60000/60000 [10:30<00:00, 95.22it/s]\n",
      "  0%|          | 9/60000 [00:00<11:43, 85.26it/s]"
     ]
    },
    {
     "name": "stdout",
     "output_type": "stream",
     "text": [
      "Epoch: 1  Train loss: 1.508576727861012  Test loss: 1.4046447167995624  Train accuracy: 42.895  Test accuracy: 45.99\n"
     ]
    },
    {
     "name": "stderr",
     "output_type": "stream",
     "text": [
      "100%|██████████| 60000/60000 [10:29<00:00, 95.31it/s]\n",
      "  0%|          | 9/60000 [00:00<11:55, 83.90it/s]"
     ]
    },
    {
     "name": "stdout",
     "output_type": "stream",
     "text": [
      "Epoch: 2  Train loss: 1.3795783880339079  Test loss: 1.3269869085781854  Train accuracy: 49.67333333333333  Test accuracy: 53.79\n"
     ]
    },
    {
     "name": "stderr",
     "output_type": "stream",
     "text": [
      "100%|██████████| 60000/60000 [10:30<00:00, 95.11it/s]\n",
      "  0%|          | 9/60000 [00:00<11:32, 86.58it/s]"
     ]
    },
    {
     "name": "stdout",
     "output_type": "stream",
     "text": [
      "Epoch: 3  Train loss: 1.233221034189381  Test loss: 1.1182144622834584  Train accuracy: 58.60166666666667  Test accuracy: 62.89\n"
     ]
    },
    {
     "name": "stderr",
     "output_type": "stream",
     "text": [
      "100%|██████████| 60000/60000 [10:21<00:00, 96.52it/s]\n",
      "  0%|          | 9/60000 [00:00<11:25, 87.56it/s]"
     ]
    },
    {
     "name": "stdout",
     "output_type": "stream",
     "text": [
      "Epoch: 4  Train loss: 1.1052934804799384  Test loss: 1.07152620730264  Train accuracy: 64.25  Test accuracy: 66.46\n"
     ]
    },
    {
     "name": "stderr",
     "output_type": "stream",
     "text": [
      "100%|██████████| 60000/60000 [10:23<00:00, 96.24it/s]\n",
      "  0%|          | 9/60000 [00:00<11:22, 87.92it/s]"
     ]
    },
    {
     "name": "stdout",
     "output_type": "stream",
     "text": [
      "Epoch: 5  Train loss: 1.0146049135271038  Test loss: 1.0732558884519823  Train accuracy: 67.73333333333333  Test accuracy: 65.48\n"
     ]
    },
    {
     "name": "stderr",
     "output_type": "stream",
     "text": [
      "100%|██████████| 60000/60000 [10:26<00:00, 95.82it/s]\n",
      "  0%|          | 9/60000 [00:00<11:44, 85.11it/s]"
     ]
    },
    {
     "name": "stdout",
     "output_type": "stream",
     "text": [
      "Epoch: 6  Train loss: 0.9542602500555849  Test loss: 0.9973110039601027  Train accuracy: 70.665  Test accuracy: 69.47\n"
     ]
    },
    {
     "name": "stderr",
     "output_type": "stream",
     "text": [
      "100%|██████████| 60000/60000 [10:26<00:00, 95.79it/s]\n",
      "  0%|          | 8/60000 [00:00<12:47, 78.16it/s]"
     ]
    },
    {
     "name": "stdout",
     "output_type": "stream",
     "text": [
      "Epoch: 7  Train loss: 0.9384411749117585  Test loss: 0.9388502197114702  Train accuracy: 71.94  Test accuracy: 72.12\n"
     ]
    },
    {
     "name": "stderr",
     "output_type": "stream",
     "text": [
      "100%|██████████| 60000/60000 [10:27<00:00, 95.65it/s]\n",
      "  0%|          | 10/60000 [00:00<10:40, 93.73it/s]"
     ]
    },
    {
     "name": "stdout",
     "output_type": "stream",
     "text": [
      "Epoch: 8  Train loss: 0.9310847123872787  Test loss: 0.9041402885461077  Train accuracy: 71.98333333333333  Test accuracy: 72.7\n"
     ]
    },
    {
     "name": "stderr",
     "output_type": "stream",
     "text": [
      "100%|██████████| 60000/60000 [10:27<00:00, 95.62it/s]\n"
     ]
    },
    {
     "name": "stdout",
     "output_type": "stream",
     "text": [
      "Epoch: 9  Train loss: 0.9156048143677356  Test loss: 0.9074581729966903  Train accuracy: 72.31833333333333  Test accuracy: 72.5\n"
     ]
    }
   ],
   "source": [
    "rnn = RNN_numpy(INPUT_SIZE, HIDDEN_SIZE, OUTPUT_SIZE)\n",
    "out_fn = Softmax()\n",
    "loss_epoch_train = []\n",
    "loss_epoch_test = []\n",
    "acc_train = []\n",
    "acc_val = []\n",
    "\n",
    "for e in range(EPOCH):\n",
    "    losses = []\n",
    "    acc = []\n",
    "    for x,y in tqdm(train_loader):\n",
    "        x = torch.transpose(x,2,3)\n",
    "        x = x.squeeze().numpy()\n",
    "        y = y.numpy()\n",
    "\n",
    "        outputs = rnn.forward(x)\n",
    "        y_pred = np.argmax(out_fn.predict(outputs[-1].mulv))\n",
    "        loss = out_fn.loss(outputs[-1].mulv,y)\n",
    "        if np.isnan(loss):\n",
    "            print('NaN encountered. Stop Immediately!')\n",
    "        losses.append(loss)\n",
    "        rnn.backward(x,y,LR)\n",
    "        acc.append(y_pred == y)\n",
    "    acc_train.append(np.sum(acc)*100/len(acc))\n",
    "\n",
    "    loss_epoch_train.append(np.mean(losses))\n",
    "    losses = []\n",
    "    acc = []\n",
    "    for x,y in test_loader:\n",
    "        x = torch.transpose(x,2,3)\n",
    "        x = x.squeeze().numpy()\n",
    "        y = y.numpy()\n",
    "\n",
    "        outputs = rnn.forward(x)\n",
    "        y_pred = np.argmax(out_fn.predict(outputs[-1].mulv))\n",
    "        loss = out_fn.loss(outputs[-1].mulv,y)\n",
    "        losses.append(loss)\n",
    "        acc.append(y_pred == y)\n",
    "    acc_val.append(np.sum(acc)*100/len(acc))\n",
    "    loss_epoch_test.append(np.mean(losses))\n",
    "    print('Epoch:',int(e),' Train loss:',loss_epoch_train[e],' Test loss:'\n",
    "          ,loss_epoch_test[e],' Train accuracy:',acc_train[e],' Test accuracy:',acc_val[e])\n",
    "    "
   ]
  },
  {
   "cell_type": "code",
   "execution_count": 18,
   "metadata": {},
   "outputs": [
    {
     "data": {
      "image/png": "[encoded data removed]",
      "text/plain": [
       "<Figure size 432x288 with 1 Axes>"
      ]
     },
     "metadata": {
      "needs_background": "light"
     },
     "output_type": "display_data"
    }
   ],
   "source": [
    "plt.xlabel(\"Epoch\")\n",
    "plt.ylabel(\"Loss\")\n",
    "plt.plot(range(len(loss_epoch_train)), loss_epoch_train, 'r',label='Train') # plotting t, a separately \n",
    "plt.plot(range(len(loss_epoch_test)), loss_epoch_test, 'b',label='Test') \n",
    "plt.legend()\n",
    "plt.show()"
   ]
  },
  {
   "cell_type": "code",
   "execution_count": 19,
   "metadata": {},
   "outputs": [
    {
     "data": {
      "image/png": "[encoded data removed]",
      "text/plain": [
       "<Figure size 432x288 with 1 Axes>"
      ]
     },
     "metadata": {
      "needs_background": "light"
     },
     "output_type": "display_data"
    }
   ],
   "source": [
    "plt.xlabel(\"Epoch\")\n",
    "plt.ylabel(\"Accuracy\")\n",
    "plt.plot(range(len(acc_train)), acc_train, 'r',label='Train') # plotting t, a separately \n",
    "plt.plot(range(len(acc_val)), acc_val, 'b',label='Test') \n",
    "plt.legend()\n",
    "plt.show()"
   ]
  },
  {
   "cell_type": "code",
   "execution_count": 20,
   "metadata": {},
   "outputs": [
    {
     "name": "stderr",
     "output_type": "stream",
     "text": [
      "100%|██████████| 60000/60000 [01:26<00:00, 694.59it/s]\n",
      "  0%|          | 61/60000 [00:00<01:38, 606.68it/s]"
     ]
    },
    {
     "name": "stdout",
     "output_type": "stream",
     "text": [
      "Epoch: 0  Train loss: 2.307073  Test loss: 2.306117  Train accuracy: 9.843333333333334  Test accuracy: 9.79\n"
     ]
    },
    {
     "name": "stderr",
     "output_type": "stream",
     "text": [
      "100%|██████████| 60000/60000 [01:26<00:00, 695.90it/s]\n",
      "  0%|          | 63/60000 [00:00<01:35, 625.58it/s]"
     ]
    },
    {
     "name": "stdout",
     "output_type": "stream",
     "text": [
      "Epoch: 1  Train loss: 2.3049614  Test loss: 2.304288  Train accuracy: 9.858333333333333  Test accuracy: 9.77\n"
     ]
    },
    {
     "name": "stderr",
     "output_type": "stream",
     "text": [
      "100%|██████████| 60000/60000 [01:24<00:00, 710.73it/s]\n",
      "  0%|          | 58/60000 [00:00<01:43, 579.61it/s]"
     ]
    },
    {
     "name": "stdout",
     "output_type": "stream",
     "text": [
      "Epoch: 2  Train loss: 2.3033779  Test loss: 2.302859  Train accuracy: 9.87  Test accuracy: 9.77\n"
     ]
    },
    {
     "name": "stderr",
     "output_type": "stream",
     "text": [
      "100%|██████████| 60000/60000 [01:24<00:00, 711.33it/s]\n",
      "  0%|          | 58/60000 [00:00<01:43, 577.88it/s]"
     ]
    },
    {
     "name": "stdout",
     "output_type": "stream",
     "text": [
      "Epoch: 3  Train loss: 2.302104  Test loss: 2.3016596  Train accuracy: 9.936666666666667  Test accuracy: 10.62\n"
     ]
    },
    {
     "name": "stderr",
     "output_type": "stream",
     "text": [
      "100%|██████████| 60000/60000 [01:24<00:00, 711.68it/s]\n",
      "  0%|          | 57/60000 [00:00<01:45, 569.38it/s]"
     ]
    },
    {
     "name": "stdout",
     "output_type": "stream",
     "text": [
      "Epoch: 4  Train loss: 2.300996  Test loss: 2.3005645  Train accuracy: 17.953333333333333  Test accuracy: 16.66\n"
     ]
    },
    {
     "name": "stderr",
     "output_type": "stream",
     "text": [
      "100%|██████████| 60000/60000 [01:24<00:00, 710.90it/s]\n",
      "  0%|          | 58/60000 [00:00<01:43, 578.46it/s]"
     ]
    },
    {
     "name": "stdout",
     "output_type": "stream",
     "text": [
      "Epoch: 5  Train loss: 2.299944  Test loss: 2.2994778  Train accuracy: 16.398333333333333  Test accuracy: 15.61\n"
     ]
    },
    {
     "name": "stderr",
     "output_type": "stream",
     "text": [
      "100%|██████████| 60000/60000 [01:24<00:00, 710.73it/s]\n",
      "  0%|          | 61/60000 [00:00<01:38, 607.59it/s]"
     ]
    },
    {
     "name": "stdout",
     "output_type": "stream",
     "text": [
      "Epoch: 6  Train loss: 2.298851  Test loss: 2.2982984  Train accuracy: 15.521666666666667  Test accuracy: 15.25\n"
     ]
    },
    {
     "name": "stderr",
     "output_type": "stream",
     "text": [
      "100%|██████████| 60000/60000 [01:24<00:00, 710.61it/s]\n",
      "  0%|          | 63/60000 [00:00<01:36, 623.63it/s]"
     ]
    },
    {
     "name": "stdout",
     "output_type": "stream",
     "text": [
      "Epoch: 7  Train loss: 2.2976005  Test loss: 2.2968886  Train accuracy: 15.36  Test accuracy: 15.43\n"
     ]
    },
    {
     "name": "stderr",
     "output_type": "stream",
     "text": [
      "100%|██████████| 60000/60000 [01:24<00:00, 711.21it/s]\n",
      "  0%|          | 58/60000 [00:00<01:44, 575.88it/s]"
     ]
    },
    {
     "name": "stdout",
     "output_type": "stream",
     "text": [
      "Epoch: 8  Train loss: 2.2960246  Test loss: 2.2950304  Train accuracy: 15.741666666666667  Test accuracy: 15.95\n"
     ]
    },
    {
     "name": "stderr",
     "output_type": "stream",
     "text": [
      "100%|██████████| 60000/60000 [01:24<00:00, 711.83it/s]\n"
     ]
    },
    {
     "name": "stdout",
     "output_type": "stream",
     "text": [
      "Epoch: 9  Train loss: 2.293824  Test loss: 2.292309  Train accuracy: 16.766666666666666  Test accuracy: 17.09\n"
     ]
    }
   ],
   "source": [
    "rnn = RNN_torch(INPUT_SIZE, HIDDEN_SIZE, OUTPUT_SIZE)\n",
    "optimizer=torch.optim.SGD(rnn.parameters(),lr=LR)\n",
    "loss_func=nn.CrossEntropyLoss()\n",
    "loss_epoch_train = []\n",
    "loss_epoch_test = []\n",
    "acc_train = []\n",
    "acc_val = []\n",
    "\n",
    "rnn = rnn.to(device)\n",
    "\n",
    "for e in range(EPOCH):\n",
    "    losses = []\n",
    "    acc = []\n",
    "    for x,y in tqdm(train_loader):\n",
    "        x = torch.transpose(x,2,3)\n",
    "        x = x.squeeze()\n",
    "        x = x.to(device)\n",
    "        y = y.to(device)\n",
    "        outputs = rnn(x.unsqueeze(0))\n",
    "        loss = loss_func(outputs, y)\n",
    "        optimizer.zero_grad()        \n",
    "        loss.backward()\n",
    "        optimizer.step()\n",
    "        losses.append(loss.cpu().detach().numpy())\n",
    "        y_pred = torch.argmax(outputs, dim=1)\n",
    "        acc.append((y_pred == y).cpu().float().numpy())\n",
    "\n",
    "    acc_train.append(np.sum(acc)*100/len(acc))\n",
    "\n",
    "    loss_epoch_train.append(np.mean(losses))\n",
    "    losses = []\n",
    "    acc = []\n",
    "    for x,y in test_loader:\n",
    "        x = torch.transpose(x,2,3)\n",
    "        x = x.squeeze()\n",
    "        x = x.to(device)\n",
    "        y = y.to(device)\n",
    "        outputs = rnn(x.unsqueeze(0))\n",
    "        loss = loss_func(outputs, y)\n",
    "        losses.append(loss.cpu().detach().numpy())\n",
    "        y_pred = torch.argmax(outputs, dim=1)\n",
    "        acc.append((y_pred == y).cpu().float().numpy())\n",
    "    acc_val.append(np.sum(acc)*100/len(acc))\n",
    "    loss_epoch_test.append(np.mean(losses))\n",
    "    print('Epoch:',int(e),' Train loss:',loss_epoch_train[e],' Test loss:'\n",
    "          ,loss_epoch_test[e],' Train accuracy:',acc_train[e],' Test accuracy:',acc_val[e])"
   ]
  },
  {
   "cell_type": "code",
   "execution_count": 21,
   "metadata": {},
   "outputs": [
    {
     "data": {
      "image/png": "[encoded data removed]",
      "text/plain": [
       "<Figure size 432x288 with 1 Axes>"
      ]
     },
     "metadata": {
      "needs_background": "light"
     },
     "output_type": "display_data"
    }
   ],
   "source": [
    "plt.xlabel(\"Epoch\")\n",
    "plt.ylabel(\"Loss\")\n",
    "plt.plot(range(len(loss_epoch_train)), loss_epoch_train, 'r',label='Train') # plotting t, a separately \n",
    "plt.plot(range(len(loss_epoch_test)), loss_epoch_test, 'b',label='Test') \n",
    "plt.legend()\n",
    "plt.show()"
   ]
  },
  {
   "cell_type": "code",
   "execution_count": 22,
   "metadata": {},
   "outputs": [
    {
     "data": {
      "image/png": "[encoded data removed]",
      "text/plain": [
       "<Figure size 432x288 with 1 Axes>"
      ]
     },
     "metadata": {
      "needs_background": "light"
     },
     "output_type": "display_data"
    }
   ],
   "source": [
    "plt.xlabel(\"Epoch\")\n",
    "plt.ylabel(\"Accuracy\")\n",
    "plt.plot(range(len(acc_train)), acc_train, 'r',label='Train') # plotting t, a separately \n",
    "plt.plot(range(len(acc_val)), acc_val, 'b',label='Test') \n",
    "plt.legend()\n",
    "plt.show()"
   ]
  },
  {
   "cell_type": "code",
   "execution_count": null,
   "metadata": {},
   "outputs": [],
   "source": []
  }
 ],
 "metadata": {
  "kernelspec": {
   "display_name": "Python 3",
   "language": "python",
   "name": "python3"
  },
  "language_info": {
   "codemirror_mode": {
    "name": "ipython",
    "version": 3
   },
   "file_extension": ".py",
   "mimetype": "text/x-python",
   "name": "python",
   "nbconvert_exporter": "python",
   "pygments_lexer": "ipython3",
   "version": "3.7.7"
  }
 },
 "nbformat": 4,
 "nbformat_minor": 4
}
