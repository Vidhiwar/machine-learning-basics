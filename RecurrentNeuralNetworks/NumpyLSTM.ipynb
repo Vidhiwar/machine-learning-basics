{
 "cells": [
  {
   "cell_type": "code",
   "execution_count": 18,
   "metadata": {},
   "outputs": [],
   "source": [
    "import os\n",
    "import torch\n",
    "import numpy as np\n",
    "import torchvision\n",
    "import torch.nn as nn\n",
    "import torchvision.transforms as transforms\n",
    "from tqdm import tqdm\n",
    "import matplotlib.pyplot as plt"
   ]
  },
  {
   "cell_type": "code",
   "execution_count": 19,
   "metadata": {},
   "outputs": [],
   "source": [
    "path = '/home/vidhiwar/Data/mnist'\n",
    "np.random.seed(10)"
   ]
  },
  {
   "cell_type": "code",
   "execution_count": 20,
   "metadata": {},
   "outputs": [],
   "source": [
    "\n",
    "def sigmoid(x):\n",
    "    return 1 / (1 + np.exp(-x))\n",
    "\n",
    "\n",
    "def dsigmoid(y):\n",
    "    return y * (1 - y)\n",
    "\n",
    "\n",
    "def tanh(x):\n",
    "    return np.tanh(x)\n",
    "\n",
    "\n",
    "def dtanh(y):\n",
    "    return 1 - y * y\n",
    "\n",
    "\n",
    "class Softmax:\n",
    "    def predict(self, x):\n",
    "        exp_scores = np.exp(x)\n",
    "        return exp_scores / np.sum(exp_scores)\n",
    "\n",
    "    def loss(self, x, y):\n",
    "        probs = self.predict(x)\n",
    "\n",
    "        return -np.log(probs[y])\n",
    "\n",
    "    def diff(self, x, y):\n",
    "        probs = self.predict(x)\n",
    "        probs[y] -= 1.0\n",
    "        return probs"
   ]
  },
  {
   "cell_type": "code",
   "execution_count": 21,
   "metadata": {},
   "outputs": [],
   "source": [
    "class LSTM_numpy(object):\n",
    "    def __init__(self, input_size, hidden_size, output_size, bptt_truncate=4, LR = 0.00001):\n",
    "        self.bptt_truncate = bptt_truncate\n",
    "        self.state = np.zeros((hidden_size))\n",
    "        self.hidden = np.zeros((hidden_size))\n",
    "        self.learning_rate = LR\n",
    "        \n",
    "        self.Wf = np.random.uniform(-np.sqrt(1./hidden_size), np.sqrt(1./hidden_size), (hidden_size, hidden_size + input_size))\n",
    "        self.Wi = np.random.uniform(-np.sqrt(1./hidden_size), np.sqrt(1./hidden_size), (hidden_size, hidden_size + input_size))\n",
    "        self.Wc = np.random.uniform(-np.sqrt(1./hidden_size), np.sqrt(1./hidden_size), (hidden_size, hidden_size + input_size))\n",
    "        self.Wo = np.random.uniform(-np.sqrt(1./hidden_size), np.sqrt(1./hidden_size), (hidden_size, hidden_size + input_size))\n",
    "        self.Wv = np.random.uniform(-np.sqrt(1./hidden_size), np.sqrt(1./hidden_size), (output_size, hidden_size))\n",
    "        self.hidden_size = hidden_size\n",
    "        self.input_size = input_size\n",
    "        \n",
    "        self.softmax = Softmax()\n",
    "\n",
    "    def forward_backward(self, x ,y):\n",
    "\n",
    "        loss, acc, dLdWv, dLdWo, dLdWc, dLdWi, dLdWf = self.bptt(x, y)\n",
    "        self.backward(dLdWv, dLdWo, dLdWc, dLdWi, dLdWf)\n",
    "        \n",
    "        return loss, acc\n",
    "\n",
    "    def hidden_state_reset(self):\n",
    "        self.hidden = np.zeros_like(self.hidden)\n",
    "    \n",
    "    def bptt(self, x, y):\n",
    "        dLdWv = np.zeros_like(self.Wv.transpose())\n",
    "        dLdWo = np.zeros_like(self.Wo.transpose())\n",
    "        dLdWc = np.zeros_like(self.Wc.transpose())\n",
    "        dLdWi = np.zeros_like(self.Wi.transpose())\n",
    "        dLdWf = np.zeros_like(self.Wf.transpose())\n",
    "\n",
    "        dc = np.zeros((self.hidden_size))\n",
    "        dh = np.zeros((self.hidden_size))\n",
    "\n",
    "        states, hiddens, outputs, zs, fs, inps, c_s, os = self.forward(x)\n",
    "        loss = self.softmax.loss(outputs[-1],y)\n",
    "        pred = np.argmax(self.softmax.predict(outputs[-1]))\n",
    "        if pred == y:\n",
    "            acc = 1\n",
    "        else:\n",
    "            acc = 0\n",
    "            \n",
    "        outputs = self.softmax.predict(outputs)\n",
    "        dv = outputs[-1]\n",
    "        dv[y] = dv[y] - 1\n",
    "        dLdWv += np.outer(hiddens[-1], dv)\n",
    "\n",
    "        for j in reversed(range(len(states))):\n",
    "            dh = dh + dv.dot(self.Wv)\n",
    "            do = dh * tanh(states[j])\n",
    "            dc = dc + dh * os[j] * dtanh(states[j])\n",
    "            dc1 = dc * inps[j]\n",
    "            di = dc * c_s[j]\n",
    "            df = dc * states[j - 1]\n",
    "            dc = fs[j] * dc\n",
    "            dff = dsigmoid(fs[j]) * df\n",
    "            dii = dsigmoid(inps[j]) * di\n",
    "            dc2 = dtanh(c_s[j]) * dc1\n",
    "            doo = dsigmoid(os[j]) * do\n",
    "            dz = dff.dot(self.Wf) + di.dot(self.Wi) + dc1.dot(self.Wc) + do.dot(self.Wo)\n",
    "            dh = dz[self.input_size:]\n",
    "            \n",
    "            dLdWf = np.outer(zs[j], dff)\n",
    "            dLdWi = np.outer(zs[j], dii)\n",
    "            dLdWc = np.outer(zs[j], dc2)\n",
    "            dLdWo = np.outer(zs[j], doo)\n",
    "\n",
    "        return [loss, acc, dLdWv, dLdWo, dLdWc, dLdWi, dLdWf]\n",
    "    \n",
    "    def forward(self, x):\n",
    "        states  = np.zeros((len(x), self.state.shape[0]))\n",
    "        hiddens = np.zeros((len(x), self.hidden.shape[0]))\n",
    "        outputs = np.zeros((len(x), self.Wv.shape[0]))\n",
    "        os = np.zeros((len(x), self.Wo.shape[0]))\n",
    "        c_s = np.zeros((len(x), self.Wc.shape[0]))\n",
    "        inps = np.zeros((len(x), self.Wi.shape[0]))\n",
    "        zs = np.zeros((len(x), self.input_size + self.hidden_size))\n",
    "        fs = np.zeros((len(x), self.Wf.shape[0]))\n",
    "\n",
    "        c = np.zeros_like(self.state)\n",
    "        h = np.zeros_like(self.hidden)\n",
    "\n",
    "        for k in range(len(x)):\n",
    "            z = np.concatenate((h, x[k]), axis=0)\n",
    "            f = sigmoid(self.Wf.dot(z))\n",
    "            i = sigmoid(self.Wi.dot(z))\n",
    "            c1 = tanh(self.Wc.dot(z))\n",
    "            c = tanh(f * c1 + i * c)\n",
    "            o = sigmoid(self.Wo.dot(z))\n",
    "            h = o * tanh(c)\n",
    "            out = self.Wv.dot(h)\n",
    "\n",
    "            states[k]  = c\n",
    "            hiddens[k] = h\n",
    "            inps[k] = i\n",
    "            zs[k] = z\n",
    "            fs[k] = f\n",
    "            c_s[k] = c1\n",
    "            os[k] = o\n",
    "\n",
    "            outputs[k] = out\n",
    "\n",
    "        return states, hiddens, outputs, zs, fs, inps, c_s, os\n",
    "    \n",
    "    def backward(self,dLdWv, dLdWo, dLdWc, dLdWi, dLdWf):\n",
    "        \n",
    "        self.Wv -= self.learning_rate * dLdWv.transpose()\n",
    "        self.Wo -= self.learning_rate * dLdWo.transpose()\n",
    "        self.Wc -= self.learning_rate * dLdWc.transpose()\n",
    "        self.Wi -= self.learning_rate * dLdWi.transpose()\n",
    "        self.Wf -= self.learning_rate * dLdWf.transpose()\n"
   ]
  },
  {
   "cell_type": "code",
   "execution_count": 22,
   "metadata": {},
   "outputs": [],
   "source": [
    "class LSTM_torch(nn.Module):\n",
    "    def __init__(self, INPUT_SIZE, HIDDEN_SIZE, OUTPUT_SIZE):\n",
    "        super(LSTM_torch, self).__init__()\n",
    "        self.rnn = nn.RNN(input_size=INPUT_SIZE, hidden_size=HIDDEN_SIZE, num_layers=1, batch_first=True)\n",
    "        self.fc = nn.Linear(HIDDEN_SIZE,OUTPUT_SIZE)\n",
    "    def forward(self,x):\n",
    "        out,_ = self.rnn(x,None)\n",
    "        out = self.fc(out[:,-1,:])\n",
    "        return out"
   ]
  },
  {
   "cell_type": "code",
   "execution_count": 23,
   "metadata": {},
   "outputs": [],
   "source": [
    "EPOCH = 10\n",
    "BATCH_SIZE = 1\n",
    "TIME_STEP = 28\n",
    "INPUT_SIZE = 28\n",
    "HIDDEN_SIZE = 64\n",
    "OUTPUT_SIZE = 10\n",
    "\n",
    "LR = 0.00001\n",
    "device = 'cuda'\n",
    "\n",
    "train_data = torchvision.datasets.MNIST(root=path,\n",
    "                                        train=True,\n",
    "                                        transform=transforms.ToTensor(),\n",
    "                                        download=True)\n",
    "test_data = torchvision.datasets.MNIST(root=path,\n",
    "                                        train=False,\n",
    "                                        transform=transforms.ToTensor())\n",
    "\n",
    "train_loader = torch.utils.data.DataLoader(dataset=train_data,\n",
    "                                           batch_size=BATCH_SIZE,\n",
    "                                           shuffle=True)\n",
    "\n",
    "test_loader = torch.utils.data.DataLoader(dataset=test_data,\n",
    "                                           batch_size=BATCH_SIZE,\n",
    "                                           shuffle=False)"
   ]
  },
  {
   "cell_type": "code",
   "execution_count": 24,
   "metadata": {},
   "outputs": [
    {
     "name": "stderr",
     "output_type": "stream",
     "text": [
      "100%|██████████| 60000/60000 [02:36<00:00, 382.46it/s]\n",
      "  0%|          | 31/60000 [00:00<03:14, 308.22it/s]"
     ]
    },
    {
     "name": "stdout",
     "output_type": "stream",
     "text": [
      "Epoch: 0  Train loss: 2.3028538925735824  Test loss: 2.3028667680627817  Train accuracy: 7.913333333333333  Test accuracy: 8.07\n"
     ]
    },
    {
     "name": "stderr",
     "output_type": "stream",
     "text": [
      "100%|██████████| 60000/60000 [02:37<00:00, 381.10it/s]\n",
      "  0%|          | 28/60000 [00:00<03:35, 278.89it/s]"
     ]
    },
    {
     "name": "stdout",
     "output_type": "stream",
     "text": [
      "Epoch: 1  Train loss: 2.3028391079862316  Test loss: 2.3028518626370595  Train accuracy: 7.946666666666666  Test accuracy: 8.1\n"
     ]
    },
    {
     "name": "stderr",
     "output_type": "stream",
     "text": [
      "100%|██████████| 60000/60000 [02:37<00:00, 380.76it/s]\n",
      "  0%|          | 32/60000 [00:00<03:09, 316.10it/s]"
     ]
    },
    {
     "name": "stdout",
     "output_type": "stream",
     "text": [
      "Epoch: 2  Train loss: 2.3028243244982964  Test loss: 2.3028369576857766  Train accuracy: 7.986666666666666  Test accuracy: 8.09\n"
     ]
    },
    {
     "name": "stderr",
     "output_type": "stream",
     "text": [
      "100%|██████████| 60000/60000 [02:38<00:00, 378.61it/s]\n",
      "  0%|          | 35/60000 [00:00<02:53, 345.70it/s]"
     ]
    },
    {
     "name": "stdout",
     "output_type": "stream",
     "text": [
      "Epoch: 3  Train loss: 2.3028095405678335  Test loss: 2.302822053209151  Train accuracy: 7.998333333333333  Test accuracy: 8.08\n"
     ]
    },
    {
     "name": "stderr",
     "output_type": "stream",
     "text": [
      "100%|██████████| 60000/60000 [02:37<00:00, 380.45it/s]\n",
      "  0%|          | 35/60000 [00:00<02:54, 342.78it/s]"
     ]
    },
    {
     "name": "stdout",
     "output_type": "stream",
     "text": [
      "Epoch: 4  Train loss: 2.3027947568859095  Test loss: 2.302807149205789  Train accuracy: 8.031666666666666  Test accuracy: 8.16\n"
     ]
    },
    {
     "name": "stderr",
     "output_type": "stream",
     "text": [
      "100%|██████████| 60000/60000 [02:37<00:00, 380.80it/s]\n",
      "  0%|          | 34/60000 [00:00<02:58, 336.48it/s]"
     ]
    },
    {
     "name": "stdout",
     "output_type": "stream",
     "text": [
      "Epoch: 5  Train loss: 2.3027799744373594  Test loss: 2.3027922456765824  Train accuracy: 8.073333333333334  Test accuracy: 8.15\n"
     ]
    },
    {
     "name": "stderr",
     "output_type": "stream",
     "text": [
      "100%|██████████| 60000/60000 [02:35<00:00, 384.62it/s]\n",
      "  0%|          | 37/60000 [00:00<02:43, 365.73it/s]"
     ]
    },
    {
     "name": "stdout",
     "output_type": "stream",
     "text": [
      "Epoch: 6  Train loss: 2.3027651922760506  Test loss: 2.302777342620947  Train accuracy: 8.115  Test accuracy: 8.17\n"
     ]
    },
    {
     "name": "stderr",
     "output_type": "stream",
     "text": [
      "100%|██████████| 60000/60000 [02:33<00:00, 391.56it/s]\n",
      "  0%|          | 37/60000 [00:00<02:42, 368.53it/s]"
     ]
    },
    {
     "name": "stdout",
     "output_type": "stream",
     "text": [
      "Epoch: 7  Train loss: 2.302750410363974  Test loss: 2.3027624400405906  Train accuracy: 8.145  Test accuracy: 8.23\n"
     ]
    },
    {
     "name": "stderr",
     "output_type": "stream",
     "text": [
      "100%|██████████| 60000/60000 [02:34<00:00, 388.87it/s]\n",
      "  0%|          | 35/60000 [00:00<02:53, 344.63it/s]"
     ]
    },
    {
     "name": "stdout",
     "output_type": "stream",
     "text": [
      "Epoch: 8  Train loss: 2.3027356289252525  Test loss: 2.3027475379320146  Train accuracy: 8.181666666666667  Test accuracy: 8.23\n"
     ]
    },
    {
     "name": "stderr",
     "output_type": "stream",
     "text": [
      "100%|██████████| 60000/60000 [02:32<00:00, 393.25it/s]\n"
     ]
    },
    {
     "name": "stdout",
     "output_type": "stream",
     "text": [
      "Epoch: 9  Train loss: 2.3027208483704373  Test loss: 2.302732636295951  Train accuracy: 8.23  Test accuracy: 8.26\n"
     ]
    }
   ],
   "source": [
    "lstm = LSTM_numpy(INPUT_SIZE, HIDDEN_SIZE, OUTPUT_SIZE, LR=LR)\n",
    "out_fn = Softmax()\n",
    "loss_epoch_train = []\n",
    "loss_epoch_test = []\n",
    "acc_train = []\n",
    "acc_val = []\n",
    "\n",
    "for e in range(EPOCH):\n",
    "    losses = []\n",
    "    acc = []\n",
    "    for x,y in tqdm(train_loader):\n",
    "        x = torch.transpose(x,2,3)\n",
    "        x = x.squeeze().tolist()\n",
    "        y = y.squeeze().tolist()\n",
    "        loss,a = lstm.forward_backward(x,y)\n",
    "        if np.isnan(loss):\n",
    "            print('NaN encountered. Stop Immediately!')\n",
    "        losses.append(loss)\n",
    "        acc.append(a)\n",
    "    acc_train.append(np.sum(acc)*100/len(acc))\n",
    "\n",
    "    loss_epoch_train.append(np.mean(losses))\n",
    "    losses = []\n",
    "    acc = []\n",
    "    for x,y in test_loader:\n",
    "        x = torch.transpose(x,2,3)\n",
    "        x = x.squeeze().tolist()\n",
    "        y = y.squeeze().tolist()\n",
    "\n",
    "        _,_,outputs,_,_,_,_,_ = lstm.forward(x)\n",
    "        y_pred = np.argmax(out_fn.predict(outputs[-1]))\n",
    "        loss = out_fn.loss(outputs[-1],y)\n",
    "        losses.append(loss)\n",
    "        acc.append(y_pred == y)\n",
    "    acc_val.append(np.sum(acc)*100/len(acc))\n",
    "    loss_epoch_test.append(np.mean(losses))\n",
    "    print('Epoch:',int(e),' Train loss:',loss_epoch_train[e],' Test loss:'\n",
    "          ,loss_epoch_test[e],' Train accuracy:',acc_train[e],' Test accuracy:',acc_val[e])\n",
    "\n"
   ]
  },
  {
   "cell_type": "code",
   "execution_count": 25,
   "metadata": {},
   "outputs": [
    {
     "data": {
      "image/png": "[encoded data removed]",
      "text/plain": [
       "<Figure size 432x288 with 1 Axes>"
      ]
     },
     "metadata": {
      "needs_background": "light"
     },
     "output_type": "display_data"
    }
   ],
   "source": [
    "plt.xlabel(\"Epoch\")\n",
    "plt.ylabel(\"Loss\")\n",
    "plt.plot(range(len(loss_epoch_train)), loss_epoch_train, 'r',label='Train') # plotting t, a separately \n",
    "plt.plot(range(len(loss_epoch_test)), loss_epoch_test, 'b',label='Test') \n",
    "plt.legend()\n",
    "plt.show()"
   ]
  },
  {
   "cell_type": "code",
   "execution_count": 26,
   "metadata": {},
   "outputs": [
    {
     "data": {
      "image/png": "[encoded data removed]",
      "text/plain": [
       "<Figure size 432x288 with 1 Axes>"
      ]
     },
     "metadata": {
      "needs_background": "light"
     },
     "output_type": "display_data"
    }
   ],
   "source": [
    "plt.xlabel(\"Epoch\")\n",
    "plt.ylabel(\"Accuracy\")\n",
    "plt.plot(range(len(acc_train)), acc_train, 'r',label='Train') # plotting t, a separately \n",
    "plt.plot(range(len(acc_val)), acc_val, 'b',label='Test') \n",
    "plt.legend()\n",
    "plt.show()\n"
   ]
  },
  {
   "cell_type": "code",
   "execution_count": 29,
   "metadata": {},
   "outputs": [
    {
     "name": "stderr",
     "output_type": "stream",
     "text": [
      "100%|██████████| 60000/60000 [01:27<00:00, 685.32it/s]\n",
      "  0%|          | 57/60000 [00:00<01:45, 569.89it/s]"
     ]
    },
    {
     "name": "stdout",
     "output_type": "stream",
     "text": [
      "Epoch: 0  Train loss: 2.3084161  Test loss: 2.3061092  Train accuracy: 9.733333333333333  Test accuracy: 9.69\n"
     ]
    },
    {
     "name": "stderr",
     "output_type": "stream",
     "text": [
      "100%|██████████| 60000/60000 [01:27<00:00, 686.01it/s]\n",
      "  0%|          | 57/60000 [00:00<01:45, 566.44it/s]"
     ]
    },
    {
     "name": "stdout",
     "output_type": "stream",
     "text": [
      "Epoch: 1  Train loss: 2.3047445  Test loss: 2.302959  Train accuracy: 9.648333333333333  Test accuracy: 10.3\n"
     ]
    },
    {
     "name": "stderr",
     "output_type": "stream",
     "text": [
      "100%|██████████| 60000/60000 [01:27<00:00, 683.57it/s]\n",
      "  0%|          | 65/60000 [00:00<01:33, 643.90it/s]"
     ]
    },
    {
     "name": "stdout",
     "output_type": "stream",
     "text": [
      "Epoch: 2  Train loss: 2.3018649  Test loss: 2.3003187  Train accuracy: 10.236666666666666  Test accuracy: 10.04\n"
     ]
    },
    {
     "name": "stderr",
     "output_type": "stream",
     "text": [
      "100%|██████████| 60000/60000 [01:27<00:00, 686.19it/s]\n",
      "  0%|          | 64/60000 [00:00<01:34, 632.48it/s]"
     ]
    },
    {
     "name": "stdout",
     "output_type": "stream",
     "text": [
      "Epoch: 3  Train loss: 2.2992363  Test loss: 2.2976675  Train accuracy: 11.47  Test accuracy: 16.78\n"
     ]
    },
    {
     "name": "stderr",
     "output_type": "stream",
     "text": [
      "100%|██████████| 60000/60000 [01:26<00:00, 691.14it/s]\n",
      "  0%|          | 57/60000 [00:00<01:45, 568.59it/s]"
     ]
    },
    {
     "name": "stdout",
     "output_type": "stream",
     "text": [
      "Epoch: 4  Train loss: 2.2962642  Test loss: 2.294272  Train accuracy: 15.61  Test accuracy: 14.56\n"
     ]
    },
    {
     "name": "stderr",
     "output_type": "stream",
     "text": [
      "100%|██████████| 60000/60000 [01:41<00:00, 591.20it/s]\n",
      "  0%|          | 46/60000 [00:00<02:11, 455.39it/s]"
     ]
    },
    {
     "name": "stdout",
     "output_type": "stream",
     "text": [
      "Epoch: 5  Train loss: 2.2918718  Test loss: 2.2885318  Train accuracy: 14.793333333333333  Test accuracy: 14.71\n"
     ]
    },
    {
     "name": "stderr",
     "output_type": "stream",
     "text": [
      "100%|██████████| 60000/60000 [01:40<00:00, 598.73it/s]\n",
      "  0%|          | 55/60000 [00:00<01:50, 543.44it/s]"
     ]
    },
    {
     "name": "stdout",
     "output_type": "stream",
     "text": [
      "Epoch: 6  Train loss: 2.2831442  Test loss: 2.2755272  Train accuracy: 16.39666666666667  Test accuracy: 19.3\n"
     ]
    },
    {
     "name": "stderr",
     "output_type": "stream",
     "text": [
      "100%|██████████| 60000/60000 [01:58<00:00, 505.78it/s]\n",
      "  0%|          | 45/60000 [00:00<02:13, 448.78it/s]"
     ]
    },
    {
     "name": "stdout",
     "output_type": "stream",
     "text": [
      "Epoch: 7  Train loss: 2.2595632  Test loss: 2.2323081  Train accuracy: 22.695  Test accuracy: 23.04\n"
     ]
    },
    {
     "name": "stderr",
     "output_type": "stream",
     "text": [
      "100%|██████████| 60000/60000 [02:01<00:00, 493.03it/s]\n",
      "  0%|          | 36/60000 [00:00<02:47, 358.75it/s]"
     ]
    },
    {
     "name": "stdout",
     "output_type": "stream",
     "text": [
      "Epoch: 8  Train loss: 2.1875908  Test loss: 2.1583905  Train accuracy: 20.993333333333332  Test accuracy: 20.36\n"
     ]
    },
    {
     "name": "stderr",
     "output_type": "stream",
     "text": [
      "100%|██████████| 60000/60000 [02:00<00:00, 496.22it/s]\n"
     ]
    },
    {
     "name": "stdout",
     "output_type": "stream",
     "text": [
      "Epoch: 9  Train loss: 2.1458743  Test loss: 2.1263556  Train accuracy: 20.44  Test accuracy: 20.75\n"
     ]
    }
   ],
   "source": [
    "lstm = LSTM_torch(INPUT_SIZE, HIDDEN_SIZE, OUTPUT_SIZE)\n",
    "optimizer=torch.optim.SGD(lstm.parameters(),lr=LR)\n",
    "loss_func=nn.CrossEntropyLoss()\n",
    "loss_epoch_train = []\n",
    "loss_epoch_test = []\n",
    "acc_train = []\n",
    "acc_val = []\n",
    "\n",
    "lstm = lstm.to(device)\n",
    "\n",
    "for e in range(EPOCH):\n",
    "    losses = []\n",
    "    acc = []\n",
    "    for x,y in tqdm(train_loader):\n",
    "        x = torch.transpose(x,2,3)\n",
    "        x = x.squeeze(1)\n",
    "        x = x.to(device)\n",
    "        y = y.to(device)        \n",
    "        outputs = lstm(x)\n",
    "        loss = loss_func(outputs, y)\n",
    "        optimizer.zero_grad()        \n",
    "        loss.backward()\n",
    "        optimizer.step()\n",
    "        losses.append(loss.detach().cpu().numpy())\n",
    "        y_pred = torch.argmax(outputs, dim=1)\n",
    "        acc.append((y_pred == y).float().cpu().numpy())\n",
    "\n",
    "    acc_train.append(np.sum(acc)*100/len(acc))\n",
    "\n",
    "    loss_epoch_train.append(np.mean(losses))\n",
    "    losses = []\n",
    "    acc = []\n",
    "    for x,y in test_loader:\n",
    "        x = torch.transpose(x,2,3)\n",
    "        x = x.squeeze(1)\n",
    "\n",
    "        x = x.to(device)\n",
    "        y = y.to(device)\n",
    "        \n",
    "        outputs = lstm(x)\n",
    "        loss = loss_func(outputs, y)\n",
    "        losses.append(loss.detach().cpu().numpy())\n",
    "        y_pred = torch.argmax(outputs, dim=1)\n",
    "        acc.append((y_pred == y).float().cpu().numpy())\n",
    "    acc_val.append(np.sum(acc)*100/len(acc))\n",
    "    loss_epoch_test.append(np.mean(losses))\n",
    "    print('Epoch:',int(e),' Train loss:',loss_epoch_train[e],' Test loss:'\n",
    "          ,loss_epoch_test[e],' Train accuracy:',acc_train[e],' Test accuracy:',acc_val[e])"
   ]
  },
  {
   "cell_type": "code",
   "execution_count": 30,
   "metadata": {},
   "outputs": [
    {
     "data": {
      "image/png": "[encoded data removed]",
      "text/plain": [
       "<Figure size 432x288 with 1 Axes>"
      ]
     },
     "metadata": {
      "needs_background": "light"
     },
     "output_type": "display_data"
    }
   ],
   "source": [
    "plt.xlabel(\"Epoch\")\n",
    "plt.ylabel(\"Loss\")\n",
    "plt.plot(range(len(loss_epoch_train)), loss_epoch_train, 'r',label='Train') # plotting t, a separately \n",
    "plt.plot(range(len(loss_epoch_test)), loss_epoch_test, 'b',label='Test') \n",
    "plt.legend()\n",
    "plt.show()"
   ]
  },
  {
   "cell_type": "code",
   "execution_count": 31,
   "metadata": {},
   "outputs": [
    {
     "data": {
      "image/png": "[encoded data removed]",
      "text/plain": [
       "<Figure size 432x288 with 1 Axes>"
      ]
     },
     "metadata": {
      "needs_background": "light"
     },
     "output_type": "display_data"
    }
   ],
   "source": [
    "plt.xlabel(\"Epoch\")\n",
    "plt.ylabel(\"Accuracy\")\n",
    "plt.plot(range(len(acc_train)), acc_train, 'r',label='Train') # plotting t, a separately \n",
    "plt.plot(range(len(acc_val)), acc_val, 'b',label='Test') \n",
    "plt.legend()\n",
    "plt.show()\n"
   ]
  },
  {
   "cell_type": "code",
   "execution_count": null,
   "metadata": {},
   "outputs": [],
   "source": []
  }
 ],
 "metadata": {
  "kernelspec": {
   "display_name": "Python 3",
   "language": "python",
   "name": "python3"
  },
  "language_info": {
   "codemirror_mode": {
    "name": "ipython",
    "version": 3
   },
   "file_extension": ".py",
   "mimetype": "text/x-python",
   "name": "python",
   "nbconvert_exporter": "python",
   "pygments_lexer": "ipython3",
   "version": "3.7.7"
  }
 },
 "nbformat": 4,
 "nbformat_minor": 4
}
